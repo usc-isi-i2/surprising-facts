{
 "cells": [
  {
   "cell_type": "markdown",
   "id": "d3c34a37",
   "metadata": {},
   "source": [
    "## requirements\n",
    "* tensorflow\n",
    "* adjustText (pip install adjustText)"
   ]
  },
  {
   "cell_type": "code",
   "execution_count": 737,
   "id": "0c48fa9d",
   "metadata": {},
   "outputs": [
    {
     "name": "stdout",
     "output_type": "stream",
     "text": [
      "The tensorboard extension is already loaded. To reload it, use:\n",
      "  %reload_ext tensorboard\n"
     ]
    }
   ],
   "source": [
    "%load_ext tensorboard"
   ]
  },
  {
   "cell_type": "code",
   "execution_count": 725,
   "id": "ef2ab2a2",
   "metadata": {},
   "outputs": [],
   "source": [
    "import pandas as pd\n",
    "import os\n",
    "import numpy as np\n",
    "from tqdm.notebook import tqdm\n",
    "import faiss\n",
    "import h5py, torch\n",
    "from torchbiggraph.model import ComplexDiagonalDynamicOperator, DotComparator, CosComparator\n",
    "import json\n",
    "from utility import kgtk_to_dataframe\n",
    "from scipy.spatial import distance\n",
    "from scipy.stats import spearmanr, kendalltau\n",
    "from sklearn.metrics.pairwise import cosine_similarity\n",
    "import random\n",
    "import matplotlib.pyplot as plt\n",
    "import tensorflow as tf\n",
    "from tensorboard.plugins import projector\n",
    "from adjustText import adjust_text\n",
    "import glob\n",
    "import itertools\n",
    "from collections import Counter, defaultdict\n",
    "from functools import reduce, lru_cache"
   ]
  },
  {
   "cell_type": "code",
   "execution_count": 954,
   "id": "2d5baf90",
   "metadata": {},
   "outputs": [],
   "source": [
    "surprise_data_file = \"/data02/profiling/surprising-facts/mc_trivia_surprise_data.with_numeric_profile_qnodes.json\"\n",
    "\n",
    "work_dir = \"./output/wikidata-20210215-dwd\"\n",
    "store_dir = \"./output/wikidata-20210215-dwd/temp-surprise\"\n",
    "# item_file = \"./data/wikidata-20210215-dwd/claims.wikibase-item.tsv.gz\"\n",
    "label_file = \"./data/wikidata-20210215-dwd/labels.en.tsv.gz\"\n",
    "# pagerank_file = \"./data/wikidata-20210215-dwd/metadata.pagerank.directed.tsv.gz\"\n",
    "descriptions_file = \"./data/wikidata-20210215-dwd/descriptions.en.tsv.gz\"\n",
    "\n",
    "# embedding_files = {\n",
    "#                    \"Profile-ComplEx\" : \"./output/wikidata-20210215-dwd/profile_graph_embeddings/profile_graph_embeddings.ComplEx.tsv\",\n",
    "#                    \"Profile-TransE\" : \"./output/wikidata-20210215-dwd/profile_graph_embeddings/profile_graph_embeddings.TransE.tsv\"\n",
    "#                   }\n",
    "\n",
    "complex_dir = \"/data02/profiling/wikidata-20210215-dwd-v2.complex-embeddings\"\n",
    "vector_dimension = 100\n"
   ]
  },
  {
   "cell_type": "markdown",
   "id": "cb0cfb7a",
   "metadata": {},
   "source": [
    "### Process params / set up variables"
   ]
  },
  {
   "cell_type": "code",
   "execution_count": 4,
   "id": "9bcf0fbf",
   "metadata": {},
   "outputs": [],
   "source": [
    "# Ensure paths are absolute\n",
    "work_dir = os.path.abspath(work_dir)\n",
    "# store_dir = os.path.abspath(store_dir)\n",
    "# item_file = os.path.abspath(item_file)\n",
    "label_file = os.path.abspath(label_file)\n",
    "descriptions_file = os.path.abspath(descriptions_file)\n",
    "# for name, file_path in embedding_files.items():\n",
    "#     embedding_files[name] = os.path.abspath(file_path)\n",
    "\n",
    "# profile_graph_dir = \"{}/label_formatting\".format(work_dir)\n",
    "    \n",
    "# Create directories\n",
    "output_dir = \"{}/surprise_prediction\".format(work_dir)\n",
    "if not os.path.exists(output_dir):\n",
    "    os.makedirs(output_dir)\n",
    "if not os.path.exists(store_dir):\n",
    "    os.makedirs(store_dir)\n",
    "    \n",
    "# adding some environment variables we'll be using frequently\n",
    "os.environ['STORE'] = \"{}/wikidata.sqlite3.db\".format(store_dir)\n",
    "# os.environ['OUT'] = output_dir\n",
    "# os.environ['PGRAPH'] = profile_graph_dir\n",
    "os.environ['LABELS'] = label_file"
   ]
  },
  {
   "cell_type": "markdown",
   "id": "524c1b5e",
   "metadata": {},
   "source": [
    "### Load various things: profile labels, english labels, descriptions, embeddings"
   ]
  },
  {
   "cell_type": "markdown",
   "id": "604e81b2",
   "metadata": {},
   "source": [
    "Load profile labels (reusing some work already done by another notebook here -- fun_fact_exploration)"
   ]
  },
  {
   "cell_type": "code",
   "execution_count": 5,
   "id": "69d3a563",
   "metadata": {},
   "outputs": [],
   "source": [
    "profile_labels_df = pd.read_csv(f\"{work_dir}/explainability/profile_labels_info_joined.RELs_and_AILs.tsv\", sep='\\t', dtype=str).fillna(\"\")"
   ]
  },
  {
   "cell_type": "code",
   "execution_count": 6,
   "id": "12b4db1d",
   "metadata": {},
   "outputs": [
    {
     "data": {
      "application/vnd.jupyter.widget-view+json": {
       "model_id": "ba18ac879b9a47e5a2f5cf7600f0315e",
       "version_major": 2,
       "version_minor": 0
      },
      "text/plain": [
       "  0%|          | 0/621114 [00:00<?, ?it/s]"
      ]
     },
     "metadata": {},
     "output_type": "display_data"
    }
   ],
   "source": [
    "label_distinctiveness_df = pd.read_csv(f\"{work_dir}/explainability/profile_labels.RELs_and_AILs.distinctiveness.tsv\", sep='\\t')\n",
    "label_distinctiveness_dict = dict(zip(label_distinctiveness_df.node1, label_distinctiveness_df.node2))\n",
    "\n",
    "distinctivenesses = []\n",
    "for _, row in tqdm(profile_labels_df.iterrows(), total=len(profile_labels_df)):\n",
    "    label = row[\"id\"]\n",
    "    distinctivenesses.append(label_distinctiveness_dict[label])\n",
    "profile_labels_df[\"distinctiveness\"] = distinctivenesses"
   ]
  },
  {
   "cell_type": "code",
   "execution_count": 7,
   "id": "ceeaac2e",
   "metadata": {},
   "outputs": [],
   "source": [
    "labels_en_df = pd.read_csv(label_file, sep='\\t')"
   ]
  },
  {
   "cell_type": "code",
   "execution_count": 8,
   "id": "9afbdab2",
   "metadata": {},
   "outputs": [],
   "source": [
    "labels_en_dict = dict(zip(labels_en_df.node1, labels_en_df.node2))"
   ]
  },
  {
   "cell_type": "code",
   "execution_count": 9,
   "id": "244866ac",
   "metadata": {},
   "outputs": [],
   "source": [
    "descriptions_df = pd.read_csv(descriptions_file, sep='\\t')"
   ]
  },
  {
   "cell_type": "code",
   "execution_count": 10,
   "id": "a3b462e7",
   "metadata": {},
   "outputs": [],
   "source": [
    "descriptions_dict = dict(zip(descriptions_df.node1, descriptions_df.node2))"
   ]
  },
  {
   "cell_type": "code",
   "execution_count": 11,
   "id": "d827e06e",
   "metadata": {},
   "outputs": [],
   "source": [
    "def remove_lang_tag(label):\n",
    "    return label[1:-4]"
   ]
  },
  {
   "cell_type": "code",
   "execution_count": null,
   "id": "f1c46855",
   "metadata": {},
   "outputs": [],
   "source": [
    "# Note this code assumes we are only using AILs and RELs\n",
    "plab_labels = []\n",
    "for _, row in tqdm(profile_labels_df.iterrows(), total=len(profile_labels_df)):\n",
    "    type_label = remove_lang_tag(row[\"type_label\"])\n",
    "    property_label = remove_lang_tag(row[\"property_label\"])\n",
    "    if row[\"node2\"] != \"\":\n",
    "        if row[\"node2\"] in labels_en_dict:\n",
    "            value_label = remove_lang_tag(labels_en_dict[row[\"node2\"]])\n",
    "        else:\n",
    "            value_label = row[\"node2\"]\n",
    "    else:\n",
    "        lb = row[\"lower_bound\"]\n",
    "        ub = row[\"upper_bound\"]\n",
    "        value_label = f\"{lb}-{ub}\"\n",
    "        si = row[\"si_units\"]\n",
    "        wd = row[\"wd_units\"]\n",
    "        if wd != \"\":\n",
    "            if wd in labels_en_dict:\n",
    "                wd = remove_lang_tag(labels_en_dict[wd])\n",
    "            value_label = value_label + f\" {wd}\"\n",
    "        elif si != \"\":\n",
    "            value_label = value_label + f\" {si}\"\n",
    "    plab_labels.append(f\"{type_label}, {property_label}, {value_label}\")\n",
    "profile_labels_df[\"plab_label\"] = plab_labels"
   ]
  },
  {
   "cell_type": "code",
   "execution_count": null,
   "id": "47e18d02",
   "metadata": {},
   "outputs": [],
   "source": [
    "# Trim profile_labels_df to just columns we need\n",
    "profile_labels_df = profile_labels_df.loc[:,[\"id\", \"plab_label\", \"support\", \"distinctiveness\"]]"
   ]
  },
  {
   "cell_type": "markdown",
   "id": "cdb65a21",
   "metadata": {},
   "source": [
    "set up dictionaries for profile-label to entities and vice-versa to speed things up."
   ]
  },
  {
   "cell_type": "code",
   "execution_count": 15,
   "id": "2a12f64b",
   "metadata": {},
   "outputs": [
    {
     "name": "stdout",
     "output_type": "stream",
     "text": [
      "CPU times: user 2min 2s, sys: 23.6 s, total: 2min 25s\n",
      "Wall time: 2min 27s\n"
     ]
    }
   ],
   "source": [
    "%%time\n",
    "entity_prof_labels_df = pd.read_csv(f\"{work_dir}/explainability/entity_profile_labels.RELs_and_AILs.shuffled.tsv\", sep='\\t')\n"
   ]
  },
  {
   "cell_type": "code",
   "execution_count": 17,
   "id": "ec13fa1c",
   "metadata": {},
   "outputs": [
    {
     "name": "stdout",
     "output_type": "stream",
     "text": [
      "CPU times: user 10min 39s, sys: 39.7 s, total: 11min 19s\n",
      "Wall time: 11min 18s\n"
     ]
    }
   ],
   "source": [
    "%time ent_to_labels_dict = entity_prof_labels_df.groupby('node1')['node2'].apply(list).to_dict()"
   ]
  },
  {
   "cell_type": "code",
   "execution_count": 19,
   "id": "52972693",
   "metadata": {},
   "outputs": [
    {
     "name": "stdout",
     "output_type": "stream",
     "text": [
      "CPU times: user 1min 25s, sys: 7.19 s, total: 1min 32s\n",
      "Wall time: 1min 32s\n"
     ]
    }
   ],
   "source": [
    "%time label_to_ents_dict = entity_prof_labels_df.groupby('node2')['node1'].apply(list).to_dict()"
   ]
  },
  {
   "cell_type": "code",
   "execution_count": 20,
   "id": "c986f2f7",
   "metadata": {},
   "outputs": [],
   "source": [
    "del entity_prof_labels_df"
   ]
  },
  {
   "cell_type": "markdown",
   "id": "15e13c00",
   "metadata": {},
   "source": [
    "#### Load embeddings"
   ]
  },
  {
   "cell_type": "code",
   "execution_count": 21,
   "id": "896c414d",
   "metadata": {},
   "outputs": [],
   "source": [
    "embedding_models = {}"
   ]
  },
  {
   "cell_type": "markdown",
   "id": "8da50dac",
   "metadata": {},
   "source": [
    "complex"
   ]
  },
  {
   "cell_type": "code",
   "execution_count": 22,
   "id": "9e064ca7",
   "metadata": {},
   "outputs": [
    {
     "name": "stdout",
     "output_type": "stream",
     "text": [
      "loading entity names list...\n",
      "loading all embeddings...\n",
      "creating complex embedding dict...\n"
     ]
    },
    {
     "data": {
      "application/vnd.jupyter.widget-view+json": {
       "model_id": "803ebd5dd1ed4a68a5809a8b4a2f7b14",
       "version_major": 2,
       "version_minor": 0
      },
      "text/plain": [
       "  0%|          | 0/53002670 [00:01<?, ?it/s]"
      ]
     },
     "metadata": {},
     "output_type": "display_data"
    }
   ],
   "source": [
    "print(\"loading entity names list...\")\n",
    "entity_names_list = json.load(open(f\"{complex_dir}/entity_names_all_0.json\"))\n",
    "\n",
    "# Load the embeddings\n",
    "print(\"loading all embeddings...\")\n",
    "with h5py.File(f\"{complex_dir}/model/embeddings_all_0.v600.h5\", \"r\") as hf:\n",
    "    embeddings = hf[\"embeddings\"][...]\n",
    "\n",
    "print(\"creating complex embedding dict...\")\n",
    "complex_embs={}\n",
    "for i in tqdm(range(len(entity_names_list))):\n",
    "    complex_embs[entity_names_list[i]] = embeddings[i]"
   ]
  },
  {
   "cell_type": "code",
   "execution_count": 23,
   "id": "8b2c8e6e",
   "metadata": {},
   "outputs": [],
   "source": [
    "embedding_models[\"complex\"] = complex_embs"
   ]
  },
  {
   "cell_type": "markdown",
   "id": "869a0b62",
   "metadata": {},
   "source": [
    "PCA text embeddings"
   ]
  },
  {
   "cell_type": "code",
   "execution_count": 24,
   "id": "7d1b13e1",
   "metadata": {},
   "outputs": [
    {
     "data": {
      "application/vnd.jupyter.widget-view+json": {
       "model_id": "77f7d7037de445199cef1a5587917fb3",
       "version_major": 2,
       "version_minor": 0
      },
      "text/plain": [
       "0it [00:00, ?it/s]"
      ]
     },
     "metadata": {},
     "output_type": "display_data"
    }
   ],
   "source": [
    "pca_text_emb_file = \"/data02/profiling/dwd-v3.text-embeddings.PCA100/faiss_index/kgtk_text_embeddings_all.PCA100.tsv\"\n",
    "text_emb_df = pd.read_csv(pca_text_emb_file, sep='\\t')\n",
    "text_emb_dict = {}\n",
    "for _, row in tqdm(text_emb_df.iterrows()):\n",
    "    ent = row[\"node1\"]\n",
    "    embed = np.float32(row[\"node2\"].split(','))\n",
    "    text_emb_dict[ent] = embed"
   ]
  },
  {
   "cell_type": "code",
   "execution_count": 25,
   "id": "c4ea64b2",
   "metadata": {},
   "outputs": [],
   "source": [
    "embedding_models[\"pca100_text\"] = text_emb_dict"
   ]
  },
  {
   "cell_type": "markdown",
   "id": "5d91710b",
   "metadata": {},
   "source": [
    "Original text embeddings (subset)"
   ]
  },
  {
   "cell_type": "code",
   "execution_count": 26,
   "id": "8eb71280",
   "metadata": {},
   "outputs": [],
   "source": [
    "orig_embed_subsets_dir = \"/data02/profiling/dwd-v3.class_subsets\""
   ]
  },
  {
   "cell_type": "code",
   "execution_count": 27,
   "id": "788a5c6b",
   "metadata": {},
   "outputs": [
    {
     "name": "stdout",
     "output_type": "stream",
     "text": [
      "loading from file /data02/profiling/dwd-v3.class_subsets/Q5.tsv.gz\n"
     ]
    },
    {
     "data": {
      "application/vnd.jupyter.widget-view+json": {
       "model_id": "32beaaf9524a47fd96e59af2ef84821b",
       "version_major": 2,
       "version_minor": 0
      },
      "text/plain": [
       "0it [00:00, ?it/s]"
      ]
     },
     "metadata": {},
     "output_type": "display_data"
    },
    {
     "name": "stdout",
     "output_type": "stream",
     "text": [
      "loading from file /data02/profiling/dwd-v3.class_subsets/Q3624078.tsv.gz\n"
     ]
    },
    {
     "data": {
      "application/vnd.jupyter.widget-view+json": {
       "model_id": "83458144c7804a3eac4bfdd1ba7330d8",
       "version_major": 2,
       "version_minor": 0
      },
      "text/plain": [
       "0it [00:00, ?it/s]"
      ]
     },
     "metadata": {},
     "output_type": "display_data"
    },
    {
     "name": "stdout",
     "output_type": "stream",
     "text": [
      "loading from file /data02/profiling/dwd-v3.class_subsets/Q532.tsv.gz\n"
     ]
    },
    {
     "data": {
      "application/vnd.jupyter.widget-view+json": {
       "model_id": "1d0d2561b6954942b030a8ffd1b78e04",
       "version_major": 2,
       "version_minor": 0
      },
      "text/plain": [
       "0it [00:00, ?it/s]"
      ]
     },
     "metadata": {},
     "output_type": "display_data"
    },
    {
     "name": "stdout",
     "output_type": "stream",
     "text": [
      "loading from file /data02/profiling/dwd-v3.class_subsets/Q23442.tsv.gz\n"
     ]
    },
    {
     "data": {
      "application/vnd.jupyter.widget-view+json": {
       "model_id": "4987a86e3fbf4fa29a7a08e921380527",
       "version_major": 2,
       "version_minor": 0
      },
      "text/plain": [
       "0it [00:00, ?it/s]"
      ]
     },
     "metadata": {},
     "output_type": "display_data"
    },
    {
     "name": "stdout",
     "output_type": "stream",
     "text": [
      "loading from file /data02/profiling/dwd-v3.class_subsets/Q783794.tsv.gz\n"
     ]
    },
    {
     "data": {
      "application/vnd.jupyter.widget-view+json": {
       "model_id": "d6f70d9c8ad04d60bf2c8bbaf30b7355",
       "version_major": 2,
       "version_minor": 0
      },
      "text/plain": [
       "0it [00:00, ?it/s]"
      ]
     },
     "metadata": {},
     "output_type": "display_data"
    },
    {
     "name": "stdout",
     "output_type": "stream",
     "text": [
      "loading from file /data02/profiling/dwd-v3.class_subsets/Q3305213.tsv.gz\n"
     ]
    },
    {
     "data": {
      "application/vnd.jupyter.widget-view+json": {
       "model_id": "42a2f8ebe34e4197aad86943193e38ec",
       "version_major": 2,
       "version_minor": 0
      },
      "text/plain": [
       "0it [00:00, ?it/s]"
      ]
     },
     "metadata": {},
     "output_type": "display_data"
    },
    {
     "name": "stdout",
     "output_type": "stream",
     "text": [
      "loading from file /data02/profiling/dwd-v3.class_subsets/Q11424.tsv.gz\n"
     ]
    },
    {
     "data": {
      "application/vnd.jupyter.widget-view+json": {
       "model_id": "4809ea7e8e3c401888b153896e851563",
       "version_major": 2,
       "version_minor": 0
      },
      "text/plain": [
       "0it [00:00, ?it/s]"
      ]
     },
     "metadata": {},
     "output_type": "display_data"
    },
    {
     "name": "stdout",
     "output_type": "stream",
     "text": [
      "loading from file /data02/profiling/dwd-v3.class_subsets/Q7725634.tsv.gz\n"
     ]
    },
    {
     "data": {
      "application/vnd.jupyter.widget-view+json": {
       "model_id": "9a73229afeb34f54900f900c2c3d3e39",
       "version_major": 2,
       "version_minor": 0
      },
      "text/plain": [
       "0it [00:00, ?it/s]"
      ]
     },
     "metadata": {},
     "output_type": "display_data"
    },
    {
     "name": "stdout",
     "output_type": "stream",
     "text": [
      "loading from file /data02/profiling/dwd-v3.class_subsets/Q571.tsv.gz\n"
     ]
    },
    {
     "data": {
      "application/vnd.jupyter.widget-view+json": {
       "model_id": "3b901e5ddac44febb7cdddc5a256b31b",
       "version_major": 2,
       "version_minor": 0
      },
      "text/plain": [
       "0it [00:00, ?it/s]"
      ]
     },
     "metadata": {},
     "output_type": "display_data"
    },
    {
     "name": "stdout",
     "output_type": "stream",
     "text": [
      "loading from file /data02/profiling/dwd-v3.class_subsets/Q47461344.tsv.gz\n"
     ]
    },
    {
     "data": {
      "application/vnd.jupyter.widget-view+json": {
       "model_id": "3c4bd93b3c2f4e6aa42f5871a051c67f",
       "version_major": 2,
       "version_minor": 0
      },
      "text/plain": [
       "0it [00:00, ?it/s]"
      ]
     },
     "metadata": {},
     "output_type": "display_data"
    },
    {
     "name": "stdout",
     "output_type": "stream",
     "text": [
      "loading from file /data02/profiling/dwd-v3.class_subsets/Q4830453.tsv.gz\n"
     ]
    },
    {
     "data": {
      "application/vnd.jupyter.widget-view+json": {
       "model_id": "e5dc022a542745d7aa117b4aacc0cf9e",
       "version_major": 2,
       "version_minor": 0
      },
      "text/plain": [
       "0it [00:00, ?it/s]"
      ]
     },
     "metadata": {},
     "output_type": "display_data"
    }
   ],
   "source": [
    "orig_embed_dict = {}\n",
    "for filename in glob.glob(f\"{orig_embed_subsets_dir}/*\"):\n",
    "    print(f\"loading from file {filename}\")\n",
    "    embedding_df = pd.read_csv(filename, sep='\\t')\n",
    "    for _, row in tqdm(embedding_df.iterrows()):\n",
    "        ent = row[\"node1\"]\n",
    "        embed = np.float32(row[\"node2\"].split(','))\n",
    "        orig_embed_dict[ent] = embed"
   ]
  },
  {
   "cell_type": "code",
   "execution_count": 28,
   "id": "1fcbd1d2",
   "metadata": {},
   "outputs": [],
   "source": [
    "embedding_models[\"text1024\"] = orig_embed_dict"
   ]
  },
  {
   "cell_type": "code",
   "execution_count": null,
   "id": "a1fbbdac",
   "metadata": {},
   "outputs": [],
   "source": []
  },
  {
   "cell_type": "markdown",
   "id": "1182f441",
   "metadata": {},
   "source": [
    "## Methods for computing measure of surprise"
   ]
  },
  {
   "cell_type": "markdown",
   "id": "b161f920",
   "metadata": {},
   "source": [
    "Shuffle entity-labels table so we can randomly sample"
   ]
  },
  {
   "cell_type": "code",
   "execution_count": 134,
   "id": "0f15c07d",
   "metadata": {},
   "outputs": [
    {
     "name": "stdout",
     "output_type": "stream",
     "text": [
      "CPU times: user 2min 43s, sys: 26.6 s, total: 3min 9s\n",
      "Wall time: 3min 9s\n"
     ]
    }
   ],
   "source": [
    "%%time\n",
    "df = pd.read_csv(f\"{work_dir}/explainability/entity_profile_labels.RELs_and_AILs.tsv\", sep='\\t', dtype=str).fillna(\"\")\n",
    "df = df.sample(frac=1).reset_index(drop=True)"
   ]
  },
  {
   "cell_type": "code",
   "execution_count": 135,
   "id": "69721e04",
   "metadata": {},
   "outputs": [
    {
     "data": {
      "text/html": [
       "<div>\n",
       "<style scoped>\n",
       "    .dataframe tbody tr th:only-of-type {\n",
       "        vertical-align: middle;\n",
       "    }\n",
       "\n",
       "    .dataframe tbody tr th {\n",
       "        vertical-align: top;\n",
       "    }\n",
       "\n",
       "    .dataframe thead th {\n",
       "        text-align: right;\n",
       "    }\n",
       "</style>\n",
       "<table border=\"1\" class=\"dataframe\">\n",
       "  <thead>\n",
       "    <tr style=\"text-align: right;\">\n",
       "      <th></th>\n",
       "      <th>node1</th>\n",
       "      <th>label</th>\n",
       "      <th>node2</th>\n",
       "      <th>id</th>\n",
       "    </tr>\n",
       "  </thead>\n",
       "  <tbody>\n",
       "    <tr>\n",
       "      <th>0</th>\n",
       "      <td>Q19081699</td>\n",
       "      <td>P31_profile</td>\n",
       "      <td>Q2334719_P31_Q19692072</td>\n",
       "      <td>E13647036</td>\n",
       "    </tr>\n",
       "    <tr>\n",
       "      <th>1</th>\n",
       "      <td>Q64186296</td>\n",
       "      <td>P1436_profile</td>\n",
       "      <td>Q2668072_P1436_0.0-0.0__Q11723795</td>\n",
       "      <td>E69951718</td>\n",
       "    </tr>\n",
       "    <tr>\n",
       "      <th>2</th>\n",
       "      <td>Q80894539</td>\n",
       "      <td>P59_profile</td>\n",
       "      <td>Q2154519_P59_Q8910</td>\n",
       "      <td>E56344602</td>\n",
       "    </tr>\n",
       "    <tr>\n",
       "      <th>3</th>\n",
       "      <td>Q422894</td>\n",
       "      <td>P131_profile</td>\n",
       "      <td>Q3700011_P131_Q10365</td>\n",
       "      <td>E30885868</td>\n",
       "    </tr>\n",
       "    <tr>\n",
       "      <th>4</th>\n",
       "      <td>Q6236968</td>\n",
       "      <td>P735_profile</td>\n",
       "      <td>Q5_P735_Q4925477</td>\n",
       "      <td>E42678981</td>\n",
       "    </tr>\n",
       "  </tbody>\n",
       "</table>\n",
       "</div>"
      ],
      "text/plain": [
       "       node1          label                              node2         id\n",
       "0  Q19081699    P31_profile             Q2334719_P31_Q19692072  E13647036\n",
       "1  Q64186296  P1436_profile  Q2668072_P1436_0.0-0.0__Q11723795  E69951718\n",
       "2  Q80894539    P59_profile                 Q2154519_P59_Q8910  E56344602\n",
       "3    Q422894   P131_profile               Q3700011_P131_Q10365  E30885868\n",
       "4   Q6236968   P735_profile                   Q5_P735_Q4925477  E42678981"
      ]
     },
     "execution_count": 135,
     "metadata": {},
     "output_type": "execute_result"
    }
   ],
   "source": [
    "df.head()"
   ]
  },
  {
   "cell_type": "code",
   "execution_count": 136,
   "id": "ae07e73e",
   "metadata": {},
   "outputs": [],
   "source": [
    "df.to_csv(f\"{work_dir}/explainability/entity_profile_labels.RELs_and_AILs.shuffled.tsv\", sep='\\t', index=False)"
   ]
  },
  {
   "cell_type": "code",
   "execution_count": 996,
   "id": "a12b83a9",
   "metadata": {},
   "outputs": [],
   "source": [
    "def get_entity_profile_labels_set(ent, ent_to_labels_dict=None):\n",
    "    if ent_to_labels_dict is not None and ent in ent_to_labels_dict:\n",
    "        return set(ent_to_labels_dict[ent])\n",
    "    res = !kgtk query -i {work_dir}/explainability/entity_profile_labels.RELs_and_AILs.shuffled.tsv --graph-cache $STORE \\\n",
    "          --match 'profile_labels: (ent)-[]->(profile_label_id)' \\\n",
    "          --return 'distinct profile_label_id' \\\n",
    "          --where 'ent = \"{ent}\"'\n",
    "    return set(kgtk_to_dataframe(res).loc[:,\"node2\"])\n",
    "    \n",
    "def get_entity_profile_labels_df(profile_labels_df, ent, ent_to_labels_dict=None):\n",
    "    labels = get_entity_profile_labels_set(ent, ent_to_labels_dict)\n",
    "    return profile_labels_df.loc[profile_labels_df.loc[:,\"id\"].isin(labels),:]\n",
    "\n",
    "def get_entities_with_profile_label(label_id, ent_to_omit=None, limit=1000, label_to_ents_dict=None):\n",
    "    if label_to_ents_dict is not None and label_id in label_to_ents_dict:\n",
    "        ents = list(label_to_ents_dict[label_id])\n",
    "        if ent_to_omit is not None and ent_to_omit in ents:\n",
    "            ents.remove(ent_to_omit)\n",
    "        return set(np.random.choice(ents, min(len(ents),limit), replace=False))\n",
    "    res = !kgtk query -i {work_dir}/explainability/entity_profile_labels.RELs_and_AILs.shuffled.tsv --graph-cache $STORE \\\n",
    "        --match 'profile_labels: (ent)-[]->(profile_label_id)' \\\n",
    "        --return 'distinct ent' \\\n",
    "        --where 'ent != \"{ent_to_omit}\" AND profile_label_id = \"{label_id}\"' \\\n",
    "        --limit {limit}\n",
    "    return set(kgtk_to_dataframe(res).loc[:,\"node1\"])\n",
    "\n",
    "def get_ents_of_type(ent_to_omit, ent_type, limit=1000):\n",
    "    res = !kgtk query -i {work_dir}/explainability/entity_profile_labels.RELs_and_AILs.shuffled.tsv --graph-cache $STORE \\\n",
    "        --match 'profile_labels: (ent)-[]->(profile_label_id)' \\\n",
    "        --return 'distinct ent' \\\n",
    "        --where 'ent != \"{ent_to_omit}\" AND printf(\"%.{len(ent_type)}s\", profile_label_id) = \"{ent_type}\"' \\\n",
    "        --limit {limit}\n",
    "    return set(kgtk_to_dataframe(res).loc[:,\"node1\"])\n",
    "\n",
    "def compute_surprise_metrics_for_sample(ent, sample_ents, embedding_dict, pairwise_disp_args,\n",
    "                                        pairwise_sample=10000):\n",
    "    ret = {}\n",
    "    \n",
    "    # get embeddings\n",
    "    sample_embeds = np.array([embedding_dict[s] for s in sample_ents if s in embedding_dict])\n",
    "    ent_embed = embedding_dict[ent]\n",
    "\n",
    "    # centroid-based measures\n",
    "    centroid = np.mean(sample_embeds, axis=0)\n",
    "    dists = np.array([distance.cosine(centroid, e) for e in sample_embeds])\n",
    "    avg_sample_to_centroid = np.mean(dists)\n",
    "    ret[\"dispersion (centroid)\"] = avg_sample_to_centroid\n",
    "    ent_to_centroid = distance.cosine(centroid, ent_embed)\n",
    "    ret[\"distance (centroid)\"] = ent_to_centroid\n",
    "    ret[\"distance(centroid)/dispersion(centroid)\"] = ent_to_centroid / avg_sample_to_centroid\n",
    "\n",
    "    # avg sample dist to entity of interest\n",
    "    ent_dists = np.array([distance.cosine(ent_embed, e) for e in sample_embeds])\n",
    "    avg_ent_to_sample = np.mean(ent_dists)\n",
    "    ret[\"distance (avg pairwise)\"] = avg_ent_to_sample\n",
    "    ret[\"distance(avg pairwise)/dispersion(centroid)\"] = avg_ent_to_sample / avg_sample_to_centroid\n",
    "\n",
    "    # avg pairwise dist within sample\n",
    "    avg_sample_to_sample = compute_avg_pairwise_dist_in_sample(pairwise_disp_args[\"fact_ids\"],\n",
    "                                                               pairwise_disp_args[\"class\"],\n",
    "                                                               pairwise_disp_args[\"emb_name\"],\n",
    "                                                               pairwise_sample\n",
    "                                                              )\n",
    "    ret[\"dispersion (avg pairwise)\"] = avg_sample_to_sample\n",
    "    ret[\"distance(avg pairwise)/dispersion(avg pairwise)\"] = avg_ent_to_sample / avg_sample_to_sample\n",
    "        \n",
    "    return ret\n",
    "\n",
    "@lru_cache(maxsize=None)\n",
    "def compute_avg_pairwise_dist_in_sample(fact_ids, ent_class, emb_name, pairwise_sample=10000):\n",
    "    \"\"\"\n",
    "    Assumptions:\n",
    "        * label_to_ents_dict exists and is accessible here\n",
    "        * embedding_models exists and is accessible here\n",
    "    \"\"\"\n",
    "    # first get sample\n",
    "    if fact_ids is not None:\n",
    "        assert ent_class is None, \"One of fact_ids or ent_class should be None.\"\n",
    "        fact_ids = fact_ids.split(\"|\")\n",
    "        sample_ents = set()\n",
    "        for fact in fact_ids:\n",
    "            sample_ents = sample_ents | get_entities_with_profile_label(fact, \"\", pairwise_sample, label_to_ents_dict)\n",
    "    elif ent_class is not None:\n",
    "        sample_ents = get_ents_of_type(\"\", ent_class, pairwise_sample)\n",
    "    else:\n",
    "        assert False, \"Both fact_ids and ent_class are None\"\n",
    "        \n",
    "    # choose embedding model we are using\n",
    "    embedding_dict = embedding_models[emb_name]\n",
    "    \n",
    "    # get embeddings\n",
    "    sample_embeds = np.array([embedding_dict[s] for s in sample_ents if s in embedding_dict])\n",
    "    # avg pairwise dist within sample\n",
    "    sample_dists = []\n",
    "    for i in range(pairwise_sample):\n",
    "        e1, e2 = sample_embeds[np.random.choice(sample_embeds.shape[0], size=2, replace=False), :]\n",
    "#         e1, e2 = random.sample(list(sample_embeds), 2) # Slower\n",
    "        sample_dists.append(distance.cosine(e1, e2))\n",
    "    avg_sample_to_sample = np.mean(sample_dists)\n",
    "    return avg_sample_to_sample\n",
    "\n",
    "def compute_avg_dist_from_ent_to_sample(ent, sample_ents, embedding_dict):\n",
    "    # get embeddings\n",
    "    ent_embed = embedding_dict[ent]\n",
    "    sample_embeds = np.array([embedding_dict[s] for s in sample_ents if s in embedding_dict])\n",
    "    # avg sample dist to entity of interest\n",
    "    ent_dists = np.array([distance.cosine(ent_embed, e) for e in sample_embeds])\n",
    "    avg_ent_to_sample = np.mean(ent_dists)\n",
    "    return avg_ent_to_sample\n",
    "\n",
    "def compute_surprise_metrics_for_ent_fact(ent, fact_ids, embedding_models, label_to_ents_dict=None,\n",
    "                                          sample=10000, pairwise_sample=10000):\n",
    "    # fact_ids are used to form the sample by taking union of samples for each fact\n",
    "    ents_sharing_label = set()\n",
    "    for fact in fact_ids:\n",
    "        ents_sharing_label = ents_sharing_label | get_entities_with_profile_label(fact, ent, sample, label_to_ents_dict)\n",
    "    \n",
    "    # Information needed to get a sample of embeddings\n",
    "    # When calculating pairwise dispersion of sample,\n",
    "    # we'll cache the result and use these values as keys.\n",
    "    pairwise_disp_args = {\"fact_ids\": \"|\".join(fact_ids),\n",
    "                          \"class\": None,\n",
    "                         }\n",
    "    metrics_dict = {}\n",
    "    for name, embedding_dict in embedding_models.items():\n",
    "        pairwise_disp_args[\"emb_name\"] = name\n",
    "        label_metrics = compute_surprise_metrics_for_sample(ent, ents_sharing_label, embedding_dict, pairwise_disp_args, pairwise_sample)\n",
    "        metrics_dict[name] = label_metrics\n",
    "        \n",
    "    return metrics_dict\n",
    "\n",
    "def compute_surprise_metrics_for_df(ent, facts_df, embedding_models, label_to_ents_dict=None, sample=10000, pairwise_sample=10000):\n",
    "    label_ids = facts_df.loc[:,\"id\"]\n",
    "    \n",
    "    # for each profile label, sample entities and compute surprise metrics with each embedding model\n",
    "    metrics_dict = {}\n",
    "    for label_id in tqdm(label_ids):\n",
    "        ents_sharing_label = get_entities_with_profile_label(label_id, ent, sample, label_to_ents_dict)\n",
    "        # Information needed to get a sample of embeddings\n",
    "        # When calculating pairwise dispersion of sample,\n",
    "        # we'll cache the result and use these values as keys.\n",
    "        pairwise_disp_args = {\"fact_ids\": label_id,\n",
    "                              \"class\": None,\n",
    "                             }\n",
    "        for name, embedding_dict in embedding_models.items():\n",
    "            pairwise_disp_args[\"emb_name\"] = name\n",
    "            label_metrics = compute_surprise_metrics_for_sample(ent, ents_sharing_label, embedding_dict, pairwise_disp_args, pairwise_sample)\n",
    "            for k, v in label_metrics.items():\n",
    "                emb_specific_key = f\"{k} - {name}\"\n",
    "                if emb_specific_key not in metrics_dict:\n",
    "                    metrics_dict[emb_specific_key] = []\n",
    "                metrics_dict[emb_specific_key].append(v)\n",
    "        \n",
    "    for k, v in metrics_dict.items():\n",
    "        facts_df.loc[:,k] = v\n",
    "    \n",
    "    return facts_df\n",
    "\n",
    "def compute_surprise_metrics_sampling_by_type(ent, ent_type, embedding_models,\n",
    "                                              sample=10000, pairwise_sample=10000):\n",
    "    ents_sharing_type = get_ents_of_type(ent, ent_type, sample)\n",
    "    # Information needed to get a sample of embeddings\n",
    "    # When calculating pairwise dispersion of sample,\n",
    "    # we'll cache the result and use these values as keys.\n",
    "    pairwise_disp_args = {\"fact_ids\": None,\n",
    "                          \"class\": ent_type,\n",
    "                         }\n",
    "    metrics_dict = {}\n",
    "    for name, embedding_dict in embedding_models.items():\n",
    "        pairwise_disp_args[\"emb_name\"] = name\n",
    "        class_metrics = compute_surprise_metrics_for_sample(ent, ents_sharing_type, embedding_dict,\n",
    "                                                            pairwise_disp_args, pairwise_sample)\n",
    "        metrics_dict[name] = class_metrics\n",
    "        \n",
    "    return metrics_dict\n",
    "\n",
    "# Baselines for measuring surprise\n",
    "def get_surprise_scores_random(fact_ids):\n",
    "    return np.random.rand(len(fact_ids))\n",
    "\n",
    "def get_surprise_scores_freq(fact_ids, profile_labels_df):\n",
    "    scores = []\n",
    "    for f_ids in fact_ids:\n",
    "        # handle multiple fact ids (see \"canvas\" answer in mc quiz)\n",
    "        freq = 0\n",
    "        for f_id in f_ids:\n",
    "            freq += float(profile_labels_df.loc[profile_labels_df[\"id\"].values == f_id, \"support\"])\n",
    "        scores.append(1-freq)\n",
    "    return scores\n",
    "\n",
    "\n",
    "# plotting function\n",
    "def plot_surprise_metrics(df, x_col, y_col, label_col, size_col, color_col=None):\n",
    "    df = df.sort_values(size_col, ascending=False)\n",
    "    labels = list(df.loc[:, label_col])\n",
    "    x = list(df.loc[:, x_col])\n",
    "    y = list(df.loc[:, y_col])\n",
    "    size = np.array(df.loc[:, size_col])\n",
    "    if color_col is not None:\n",
    "        color = np.array(df.loc[:, color_col])\n",
    "        color_dict={0: \"grey\", 1: \"yellow\", 2: \"green\"}\n",
    "        color = [color_dict[c] for c in color]\n",
    "    # rescaling\n",
    "    size -= np.min(size)\n",
    "    size *= (150 / np.max(size))\n",
    "    size += 10\n",
    "    \n",
    "    fig, ax = plt.subplots()\n",
    "    for i in range(len(x)):\n",
    "        c = color[i] if color is not None else None\n",
    "        ax.scatter(x[i], y[i], c=c, s=size[i], label=labels[i])\n",
    "    \n",
    "    texts = [plt.text(x[i], y[i], labels[i].split(\", \")[-1]) for i in range(len(x))]\n",
    "    adjust_text(texts, x=x, y=y)\n",
    "#     for i, txt in enumerate(labels):\n",
    "#         ax.annotate(txt, (x[i], y[i]))\n",
    "    \n",
    "    ax.legend(loc='center left', bbox_to_anchor=(1, 0.5))\n",
    "    ax.set_ylabel(y_col)\n",
    "    ax.set_xlabel(x_col)\n",
    "    ax.set_title(size_col)\n",
    "    ax.grid(True)\n",
    "    \n",
    "    fig.set_figwidth(8)\n",
    "    fig.set_figheight(8)\n",
    "\n",
    "    plt.show()"
   ]
  },
  {
   "cell_type": "markdown",
   "id": "8585ed75",
   "metadata": {},
   "source": [
    "## Load MC quiz data"
   ]
  },
  {
   "cell_type": "code",
   "execution_count": 969,
   "id": "74da5a8e",
   "metadata": {},
   "outputs": [],
   "source": [
    "questions_orig = questions"
   ]
  },
  {
   "cell_type": "code",
   "execution_count": 975,
   "id": "dc4ccc8d",
   "metadata": {},
   "outputs": [],
   "source": [
    "with open(surprise_data_file, 'r') as f:\n",
    "    questions = json.load(f)"
   ]
  },
  {
   "cell_type": "markdown",
   "id": "aa8fb47a",
   "metadata": {},
   "source": [
    "Add profile label ids for each answer and an empty dict for storing computed method surprise scores"
   ]
  },
  {
   "cell_type": "code",
   "execution_count": 976,
   "id": "a74f8870",
   "metadata": {},
   "outputs": [],
   "source": [
    "all_profile_labels = set(profile_labels_df.loc[:,\"id\"])\n",
    "# reconstructing and validating profile labels for each question / answer\n",
    "for i, q in enumerate(questions):\n",
    "    for answer in q[\"answers\"]:\n",
    "        ans_fact_ids = []\n",
    "        for qnode in answer[\"qnodes\"]:\n",
    "            fact_id = \"{}_{}_{}\".format(q[\"class\"], q[\"property\"], qnode)\n",
    "            if q[\"wd_units\"] is not None:\n",
    "                fact_id += \"__\" + q[\"wd_units\"]\n",
    "            assert fact_id in all_profile_labels, f\"{fact_id} not found in loaded profile labels\\n\" +\\\n",
    "                f\"Question {i}: \\'{q['lexicalized']}\\'\"\n",
    "            ans_fact_ids.append(fact_id)\n",
    "        answer[\"fact_ids\"] = ans_fact_ids\n",
    "        # also initialize dict for storing computed surprise scores\n",
    "        answer[\"method_surprise_scores\"] = {}\n",
    "    q[\"method_spearman\"] = {}\n",
    "    q[\"method_kendalltau\"] = {}"
   ]
  },
  {
   "cell_type": "markdown",
   "id": "ca3edff6",
   "metadata": {},
   "source": [
    "### Compute surprise of all facts in quiz using our method"
   ]
  },
  {
   "cell_type": "code",
   "execution_count": 992,
   "id": "dd271f61",
   "metadata": {},
   "outputs": [
    {
     "data": {
      "application/vnd.jupyter.widget-view+json": {
       "model_id": "a8fce982777f4cd4882d4f8bd6dfa92b",
       "version_major": 2,
       "version_minor": 0
      },
      "text/plain": [
       "  0%|          | 0/118 [00:00<?, ?it/s]"
      ]
     },
     "metadata": {},
     "output_type": "display_data"
    }
   ],
   "source": [
    "surprise_metric_abbrevs = {'distance(avg pairwise)/dispersion(avg pairwise)': \"ap/ap\",\n",
    "                           'distance(centroid)/dispersion(centroid)': \"c/c\",\n",
    "                           'distance(avg pairwise)/dispersion(centroid)': \"ap/c\"\n",
    "                          }\n",
    "\n",
    "for q, answer in tqdm([(q, answer) for q in questions for answer in q[\"answers\"]]):\n",
    "    ent = q[\"entity\"]\n",
    "    fact_ids = answer[\"fact_ids\"]\n",
    "    emb_metrics_dict = compute_surprise_metrics_for_ent_fact(ent, fact_ids, embedding_models, label_to_ents_dict)\n",
    "    for emb_name, metrics_dict in emb_metrics_dict.items():\n",
    "        for metric_name, abbrev in surprise_metric_abbrevs.items():\n",
    "            method_name = f\"{emb_name}, {abbrev}\"\n",
    "            answer[\"method_surprise_scores\"][method_name] = metrics_dict[metric_name]"
   ]
  },
  {
   "cell_type": "markdown",
   "id": "c2508167",
   "metadata": {},
   "source": [
    "## Correlation of facts within single question"
   ]
  },
  {
   "cell_type": "markdown",
   "id": "db65a9dd",
   "metadata": {},
   "source": [
    "### Baselines"
   ]
  },
  {
   "cell_type": "code",
   "execution_count": 998,
   "id": "58fe4d34",
   "metadata": {},
   "outputs": [
    {
     "data": {
      "application/vnd.jupyter.widget-view+json": {
       "model_id": "73ae637add1b49afb9a95b0d098adbf7",
       "version_major": 2,
       "version_minor": 0
      },
      "text/plain": [
       "  0%|          | 0/24 [00:00<?, ?it/s]"
      ]
     },
     "metadata": {},
     "output_type": "display_data"
    },
    {
     "data": {
      "text/html": [
       "<div>\n",
       "<style scoped>\n",
       "    .dataframe tbody tr th:only-of-type {\n",
       "        vertical-align: middle;\n",
       "    }\n",
       "\n",
       "    .dataframe tbody tr th {\n",
       "        vertical-align: top;\n",
       "    }\n",
       "\n",
       "    .dataframe thead th {\n",
       "        text-align: right;\n",
       "    }\n",
       "</style>\n",
       "<table border=\"1\" class=\"dataframe\">\n",
       "  <thead>\n",
       "    <tr style=\"text-align: right;\">\n",
       "      <th></th>\n",
       "      <th></th>\n",
       "      <th>Spearman</th>\n",
       "      <th>KT</th>\n",
       "    </tr>\n",
       "  </thead>\n",
       "  <tbody>\n",
       "    <tr>\n",
       "      <th>0</th>\n",
       "      <td>random</td>\n",
       "      <td>0.003</td>\n",
       "      <td>0.003</td>\n",
       "    </tr>\n",
       "    <tr>\n",
       "      <th>1</th>\n",
       "      <td>frequency</td>\n",
       "      <td>0.066</td>\n",
       "      <td>0.074</td>\n",
       "    </tr>\n",
       "  </tbody>\n",
       "</table>\n",
       "</div>"
      ],
      "text/plain": [
       "             Spearman     KT\n",
       "0     random    0.003  0.003\n",
       "1  frequency    0.066  0.074"
      ]
     },
     "metadata": {},
     "output_type": "display_data"
    }
   ],
   "source": [
    "num_trials = 500\n",
    "\n",
    "for q in tqdm(questions):\n",
    "    \n",
    "    ans_surprise_gts = [ans[\"gt_surprise\"] for ans in q[\"answers\"]]\n",
    "    fact_ids = [ans[\"fact_ids\"] for ans in q[\"answers\"]]\n",
    "    \n",
    "    # random\n",
    "    q[\"method_spearman\"][\"random\"] = []\n",
    "    q[\"method_kendalltau\"][\"random\"] = []\n",
    "    for i in range(num_trials):\n",
    "        random_preds = get_surprise_scores_random(fact_ids)\n",
    "        r, r_pval = spearmanr(ans_surprise_gts, random_preds)\n",
    "        t, t_pval = kendalltau(ans_surprise_gts, random_preds)\n",
    "        q[\"method_spearman\"][\"random\"].append(r)\n",
    "        q[\"method_kendalltau\"][\"random\"].append(t)\n",
    "    q[\"method_spearman\"][\"random\"] = np.mean(q[\"method_spearman\"][\"random\"])\n",
    "    q[\"method_kendalltau\"][\"random\"] = np.mean(q[\"method_kendalltau\"][\"random\"])\n",
    "    \n",
    "    # freq\n",
    "    freq_preds = get_surprise_scores_freq(fact_ids, profile_labels_df)\n",
    "    # if freqs are all the same, fall back to random.\n",
    "    if all(freq_preds[0] == np.array(freq_preds)):\n",
    "        q[\"method_spearman\"][\"frequency\"] = q[\"method_spearman\"][\"random\"]\n",
    "        q[\"method_kendalltau\"][\"frequency\"] = q[\"method_kendalltau\"][\"random\"]\n",
    "    else:\n",
    "        r, r_pval = spearmanr(ans_surprise_gts, freq_preds)\n",
    "        t, t_pval = kendalltau(ans_surprise_gts, freq_preds)\n",
    "        q[\"method_spearman\"][\"frequency\"] = r\n",
    "        q[\"method_kendalltau\"][\"frequency\"] = t\n",
    "header = [\"\", \"Spearman\", \"KT\"]\n",
    "rows = []\n",
    "for method in [\"random\", \"frequency\"]:\n",
    "    r = np.mean([q[\"method_spearman\"][method] for q in questions])\n",
    "    t = np.mean([q[\"method_kendalltau\"][method] for q in questions])\n",
    "    rows.append([method,\n",
    "                 f\"{r:.3f}\",\n",
    "                 f\"{t:.3f}\",\n",
    "                ])\n",
    "df = pd.DataFrame(rows, columns=header)\n",
    "display(df)"
   ]
  },
  {
   "cell_type": "markdown",
   "id": "dbec63a3",
   "metadata": {},
   "source": [
    "Now splitting by different question subsets"
   ]
  },
  {
   "cell_type": "code",
   "execution_count": 1004,
   "id": "dc10b9f2",
   "metadata": {},
   "outputs": [],
   "source": [
    "qnode_questions = [q for q in questions if not q[\"is_numeric_answer\"]]\n",
    "numeric_questions = [q for q in questions if q[\"is_numeric_answer\"]]\n",
    "single_ans_questions = [q for q in questions if q[\"is_single_answer\"]]\n",
    "multi_ans_questions = [q for q in questions if not q[\"is_single_answer\"]]"
   ]
  },
  {
   "cell_type": "code",
   "execution_count": 1008,
   "id": "17bb6d7d",
   "metadata": {},
   "outputs": [],
   "source": [
    "question_subsets = {\"qnode\": qnode_questions,\n",
    "                    \"num\": numeric_questions,\n",
    "                    \"single\": single_ans_questions,\n",
    "                    \"multi\": multi_ans_questions\n",
    "                   }\n",
    "header = [\"\"]\n",
    "for name in question_subsets:\n",
    "    header.append(f\"Rho ({name})\")\n",
    "    header.append(f\"Tau ({name})\")"
   ]
  },
  {
   "cell_type": "code",
   "execution_count": 1009,
   "id": "1bf00395",
   "metadata": {},
   "outputs": [
    {
     "data": {
      "text/html": [
       "<div>\n",
       "<style scoped>\n",
       "    .dataframe tbody tr th:only-of-type {\n",
       "        vertical-align: middle;\n",
       "    }\n",
       "\n",
       "    .dataframe tbody tr th {\n",
       "        vertical-align: top;\n",
       "    }\n",
       "\n",
       "    .dataframe thead th {\n",
       "        text-align: right;\n",
       "    }\n",
       "</style>\n",
       "<table border=\"1\" class=\"dataframe\">\n",
       "  <thead>\n",
       "    <tr style=\"text-align: right;\">\n",
       "      <th></th>\n",
       "      <th></th>\n",
       "      <th>Rho (qnode)</th>\n",
       "      <th>Tau (qnode)</th>\n",
       "      <th>Rho (num)</th>\n",
       "      <th>Tau (num)</th>\n",
       "      <th>Rho (single)</th>\n",
       "      <th>Tau (single)</th>\n",
       "      <th>Rho (multi)</th>\n",
       "      <th>Tau (multi)</th>\n",
       "    </tr>\n",
       "  </thead>\n",
       "  <tbody>\n",
       "    <tr>\n",
       "      <th>0</th>\n",
       "      <td>random</td>\n",
       "      <td>-0.003</td>\n",
       "      <td>-0.002</td>\n",
       "      <td>0.024</td>\n",
       "      <td>0.019</td>\n",
       "      <td>0.023</td>\n",
       "      <td>0.019</td>\n",
       "      <td>-0.005</td>\n",
       "      <td>-0.003</td>\n",
       "    </tr>\n",
       "    <tr>\n",
       "      <th>1</th>\n",
       "      <td>frequency</td>\n",
       "      <td>0.043</td>\n",
       "      <td>0.055</td>\n",
       "      <td>0.134</td>\n",
       "      <td>0.129</td>\n",
       "      <td>0.108</td>\n",
       "      <td>0.095</td>\n",
       "      <td>0.049</td>\n",
       "      <td>0.065</td>\n",
       "    </tr>\n",
       "  </tbody>\n",
       "</table>\n",
       "</div>"
      ],
      "text/plain": [
       "             Rho (qnode) Tau (qnode) Rho (num) Tau (num) Rho (single)  \\\n",
       "0     random      -0.003      -0.002     0.024     0.019        0.023   \n",
       "1  frequency       0.043       0.055     0.134     0.129        0.108   \n",
       "\n",
       "  Tau (single) Rho (multi) Tau (multi)  \n",
       "0        0.019      -0.005      -0.003  \n",
       "1        0.095       0.049       0.065  "
      ]
     },
     "metadata": {},
     "output_type": "display_data"
    }
   ],
   "source": [
    "rows = []\n",
    "for method in [\"random\", \"frequency\"]:\n",
    "    row = [method]\n",
    "    for question_subset in question_subsets.values():\n",
    "        r = np.mean([q[\"method_spearman\"][method] for q in question_subset])\n",
    "        t = np.mean([q[\"method_kendalltau\"][method] for q in question_subset])\n",
    "        row.append(f\"{r:.3f}\")\n",
    "        row.append(f\"{t:.3f}\")\n",
    "    rows.append(row)\n",
    "df = pd.DataFrame(rows, columns=header)\n",
    "display(df)"
   ]
  },
  {
   "cell_type": "markdown",
   "id": "b6620a28",
   "metadata": {},
   "source": [
    "### Statistical methods"
   ]
  },
  {
   "cell_type": "markdown",
   "id": "a7a93a66",
   "metadata": {},
   "source": [
    "#### Correlation of facts within each question"
   ]
  },
  {
   "cell_type": "markdown",
   "id": "bcf6fc67",
   "metadata": {},
   "source": [
    "Compute per-question correlation"
   ]
  },
  {
   "cell_type": "code",
   "execution_count": 1003,
   "id": "ecedabf8",
   "metadata": {},
   "outputs": [],
   "source": [
    "for q in questions:\n",
    "    ans_surprise_gts = [ans[\"gt_surprise\"] for ans in q[\"answers\"]]\n",
    "    for method_name in q[\"answers\"][0][\"method_surprise_scores\"]:\n",
    "        ans_surprise_preds = [ans[\"method_surprise_scores\"][method_name] for ans in q[\"answers\"]]\n",
    "        rho, _ = spearmanr(ans_surprise_gts, ans_surprise_preds)\n",
    "        tau, _ = kendalltau(ans_surprise_gts, ans_surprise_preds)\n",
    "        q[\"method_spearman\"][method_name] = rho\n",
    "        q[\"method_kendalltau\"][method_name] = tau"
   ]
  },
  {
   "cell_type": "markdown",
   "id": "e01764b7",
   "metadata": {},
   "source": [
    "view avg correlation in question"
   ]
  },
  {
   "cell_type": "code",
   "execution_count": 1010,
   "id": "7915a4d5",
   "metadata": {},
   "outputs": [
    {
     "data": {
      "text/html": [
       "<div>\n",
       "<style scoped>\n",
       "    .dataframe tbody tr th:only-of-type {\n",
       "        vertical-align: middle;\n",
       "    }\n",
       "\n",
       "    .dataframe tbody tr th {\n",
       "        vertical-align: top;\n",
       "    }\n",
       "\n",
       "    .dataframe thead th {\n",
       "        text-align: right;\n",
       "    }\n",
       "</style>\n",
       "<table border=\"1\" class=\"dataframe\">\n",
       "  <thead>\n",
       "    <tr style=\"text-align: right;\">\n",
       "      <th></th>\n",
       "      <th></th>\n",
       "      <th>Rho (qnode)</th>\n",
       "      <th>Tau (qnode)</th>\n",
       "      <th>Rho (num)</th>\n",
       "      <th>Tau (num)</th>\n",
       "      <th>Rho (single)</th>\n",
       "      <th>Tau (single)</th>\n",
       "      <th>Rho (multi)</th>\n",
       "      <th>Tau (multi)</th>\n",
       "    </tr>\n",
       "  </thead>\n",
       "  <tbody>\n",
       "    <tr>\n",
       "      <th>0</th>\n",
       "      <td>random</td>\n",
       "      <td>-0.003</td>\n",
       "      <td>-0.002</td>\n",
       "      <td>0.024</td>\n",
       "      <td>0.019</td>\n",
       "      <td>0.023</td>\n",
       "      <td>0.019</td>\n",
       "      <td>-0.005</td>\n",
       "      <td>-0.003</td>\n",
       "    </tr>\n",
       "    <tr>\n",
       "      <th>1</th>\n",
       "      <td>frequency</td>\n",
       "      <td>0.043</td>\n",
       "      <td>0.055</td>\n",
       "      <td>0.134</td>\n",
       "      <td>0.129</td>\n",
       "      <td>0.108</td>\n",
       "      <td>0.095</td>\n",
       "      <td>0.049</td>\n",
       "      <td>0.065</td>\n",
       "    </tr>\n",
       "    <tr>\n",
       "      <th>2</th>\n",
       "      <td>complex, ap/ap</td>\n",
       "      <td>0.551</td>\n",
       "      <td>0.457</td>\n",
       "      <td>0.481</td>\n",
       "      <td>0.420</td>\n",
       "      <td>0.530</td>\n",
       "      <td>0.465</td>\n",
       "      <td>0.535</td>\n",
       "      <td>0.440</td>\n",
       "    </tr>\n",
       "    <tr>\n",
       "      <th>3</th>\n",
       "      <td>complex, c/c</td>\n",
       "      <td>0.565</td>\n",
       "      <td>0.480</td>\n",
       "      <td>0.388</td>\n",
       "      <td>0.327</td>\n",
       "      <td>0.450</td>\n",
       "      <td>0.386</td>\n",
       "      <td>0.550</td>\n",
       "      <td>0.464</td>\n",
       "    </tr>\n",
       "    <tr>\n",
       "      <th>4</th>\n",
       "      <td>complex, ap/c</td>\n",
       "      <td>0.540</td>\n",
       "      <td>0.446</td>\n",
       "      <td>0.355</td>\n",
       "      <td>0.271</td>\n",
       "      <td>0.422</td>\n",
       "      <td>0.338</td>\n",
       "      <td>0.523</td>\n",
       "      <td>0.428</td>\n",
       "    </tr>\n",
       "    <tr>\n",
       "      <th>5</th>\n",
       "      <td>pca100_text, ap/ap</td>\n",
       "      <td>0.463</td>\n",
       "      <td>0.397</td>\n",
       "      <td>0.390</td>\n",
       "      <td>0.285</td>\n",
       "      <td>0.400</td>\n",
       "      <td>0.289</td>\n",
       "      <td>0.463</td>\n",
       "      <td>0.402</td>\n",
       "    </tr>\n",
       "    <tr>\n",
       "      <th>6</th>\n",
       "      <td>pca100_text, c/c</td>\n",
       "      <td>0.470</td>\n",
       "      <td>0.399</td>\n",
       "      <td>0.424</td>\n",
       "      <td>0.340</td>\n",
       "      <td>0.429</td>\n",
       "      <td>0.337</td>\n",
       "      <td>0.470</td>\n",
       "      <td>0.404</td>\n",
       "    </tr>\n",
       "    <tr>\n",
       "      <th>7</th>\n",
       "      <td>pca100_text, ap/c</td>\n",
       "      <td>0.431</td>\n",
       "      <td>0.361</td>\n",
       "      <td>0.297</td>\n",
       "      <td>0.247</td>\n",
       "      <td>0.321</td>\n",
       "      <td>0.257</td>\n",
       "      <td>0.429</td>\n",
       "      <td>0.364</td>\n",
       "    </tr>\n",
       "    <tr>\n",
       "      <th>8</th>\n",
       "      <td>text1024, ap/ap</td>\n",
       "      <td>0.563</td>\n",
       "      <td>0.491</td>\n",
       "      <td>0.542</td>\n",
       "      <td>0.466</td>\n",
       "      <td>0.589</td>\n",
       "      <td>0.505</td>\n",
       "      <td>0.545</td>\n",
       "      <td>0.476</td>\n",
       "    </tr>\n",
       "    <tr>\n",
       "      <th>9</th>\n",
       "      <td>text1024, c/c</td>\n",
       "      <td>0.563</td>\n",
       "      <td>0.490</td>\n",
       "      <td>0.490</td>\n",
       "      <td>0.394</td>\n",
       "      <td>0.544</td>\n",
       "      <td>0.443</td>\n",
       "      <td>0.545</td>\n",
       "      <td>0.476</td>\n",
       "    </tr>\n",
       "    <tr>\n",
       "      <th>10</th>\n",
       "      <td>text1024, ap/c</td>\n",
       "      <td>0.563</td>\n",
       "      <td>0.491</td>\n",
       "      <td>0.515</td>\n",
       "      <td>0.429</td>\n",
       "      <td>0.566</td>\n",
       "      <td>0.473</td>\n",
       "      <td>0.545</td>\n",
       "      <td>0.476</td>\n",
       "    </tr>\n",
       "  </tbody>\n",
       "</table>\n",
       "</div>"
      ],
      "text/plain": [
       "                       Rho (qnode) Tau (qnode) Rho (num) Tau (num)  \\\n",
       "0               random      -0.003      -0.002     0.024     0.019   \n",
       "1            frequency       0.043       0.055     0.134     0.129   \n",
       "2       complex, ap/ap       0.551       0.457     0.481     0.420   \n",
       "3         complex, c/c       0.565       0.480     0.388     0.327   \n",
       "4        complex, ap/c       0.540       0.446     0.355     0.271   \n",
       "5   pca100_text, ap/ap       0.463       0.397     0.390     0.285   \n",
       "6     pca100_text, c/c       0.470       0.399     0.424     0.340   \n",
       "7    pca100_text, ap/c       0.431       0.361     0.297     0.247   \n",
       "8      text1024, ap/ap       0.563       0.491     0.542     0.466   \n",
       "9        text1024, c/c       0.563       0.490     0.490     0.394   \n",
       "10      text1024, ap/c       0.563       0.491     0.515     0.429   \n",
       "\n",
       "   Rho (single) Tau (single) Rho (multi) Tau (multi)  \n",
       "0         0.023        0.019      -0.005      -0.003  \n",
       "1         0.108        0.095       0.049       0.065  \n",
       "2         0.530        0.465       0.535       0.440  \n",
       "3         0.450        0.386       0.550       0.464  \n",
       "4         0.422        0.338       0.523       0.428  \n",
       "5         0.400        0.289       0.463       0.402  \n",
       "6         0.429        0.337       0.470       0.404  \n",
       "7         0.321        0.257       0.429       0.364  \n",
       "8         0.589        0.505       0.545       0.476  \n",
       "9         0.544        0.443       0.545       0.476  \n",
       "10        0.566        0.473       0.545       0.476  "
      ]
     },
     "metadata": {},
     "output_type": "display_data"
    }
   ],
   "source": [
    "rows = []\n",
    "for method_name in questions[0][\"method_spearman\"]:\n",
    "    row = [method_name]\n",
    "    for question_subset in question_subsets.values():\n",
    "        r = np.mean([q[\"method_spearman\"][method_name] for q in question_subset])\n",
    "        t = np.mean([q[\"method_kendalltau\"][method_name] for q in question_subset])\n",
    "        row.append(f\"{r:.3f}\")\n",
    "        row.append(f\"{t:.3f}\")\n",
    "    rows.append(row)\n",
    "    \n",
    "df = pd.DataFrame(rows, columns=header)\n",
    "display(df)\n",
    "            "
   ]
  },
  {
   "cell_type": "markdown",
   "id": "81960ab5",
   "metadata": {},
   "source": [
    "### The below sections can be skipped for now, up until \"Link Prediction Method\"\n",
    "#### Correlation of facts across all questions (NO normalization)"
   ]
  },
  {
   "cell_type": "code",
   "execution_count": 742,
   "id": "4e49bf5c",
   "metadata": {},
   "outputs": [
    {
     "name": "stdout",
     "output_type": "stream",
     "text": [
      "correlation across all facts (no normalization)\n",
      "\tmulti-answer questions only\n",
      "\t\tSpearman: 0.274, pval=0.011\n",
      "\t\tKT: 0.182, pval=0.016\n",
      "\tsingle-answer questions only\n",
      "\t\tSpearman: 0.294, pval=0.097\n",
      "\t\tKT: 0.213, pval=0.092\n",
      "\tall questions\n",
      "\t\tSpearman: 0.142, pval=0.125\n",
      "\t\tKT: 0.086, pval=0.175\n"
     ]
    }
   ],
   "source": [
    "max_count = 26 # 26 test takers\n",
    "emb_name = 'text1024'\n",
    "surprise_metric = 'distance(avg pairwise)/dispersion(avg pairwise)'\n",
    "single_ans_gts = []\n",
    "single_ans_preds = []\n",
    "multi_ans_gts = []\n",
    "multi_ans_preds = []\n",
    "for q in questions:\n",
    "    answers = list(q[\"pred_counts\"].keys())\n",
    "    if q[\"single_answer\"]:\n",
    "        single_ans_gts.extend([max_count - count for count in q[\"pred_counts\"].values()])\n",
    "        single_ans_preds.extend([q[\"ans_to_surprise_metrics_dict\"][ans][emb_name][surprise_metric] for ans in answers])\n",
    "    else:\n",
    "        multi_ans_gts.extend([max_count - count for count in q[\"pred_counts\"].values()])\n",
    "        multi_ans_preds.extend([q[\"ans_to_surprise_metrics_dict\"][ans][emb_name][surprise_metric] for ans in answers])\n",
    "\n",
    "print(\"correlation across all facts (no normalization)\")\n",
    "print(\"\\tmulti-answer questions only\")\n",
    "rho, rho_pval = spearmanr(multi_ans_gts, multi_ans_preds)\n",
    "tau, tau_pval = kendalltau(multi_ans_gts, multi_ans_preds)\n",
    "print(f\"\\t\\tSpearman: {rho:.3f}, pval={rho_pval:.3f}\")\n",
    "print(f\"\\t\\tKT: {tau:.3f}, pval={tau_pval:.3f}\")\n",
    "print(\"\\tsingle-answer questions only\")\n",
    "rho, rho_pval = spearmanr(single_ans_gts, single_ans_preds)\n",
    "tau, tau_pval = kendalltau(single_ans_gts, single_ans_preds)\n",
    "print(f\"\\t\\tSpearman: {rho:.3f}, pval={rho_pval:.3f}\")\n",
    "print(f\"\\t\\tKT: {tau:.3f}, pval={tau_pval:.3f}\")\n",
    "print(\"\\tall questions\")\n",
    "rho, rho_pval = spearmanr(multi_ans_gts + single_ans_gts, multi_ans_preds + single_ans_preds)\n",
    "tau, tau_pval = kendalltau(multi_ans_gts + single_ans_gts, multi_ans_preds + single_ans_preds)\n",
    "print(f\"\\t\\tSpearman: {rho:.3f}, pval={rho_pval:.3f}\")\n",
    "print(f\"\\t\\tKT: {tau:.3f}, pval={tau_pval:.3f}\")"
   ]
  },
  {
   "cell_type": "markdown",
   "id": "0fbf9867",
   "metadata": {},
   "source": [
    "**Hypothesis:** Using # of people who chose the answer to infer surprise/unexpectedness will not be directly comparable between single and multi-answer questions. In multi-answer questions, every answer can have up to the total number of participants choose it, making it similar to if we had asked each answer as a separate true/false question. Meanwhile, in single-answer questions, picking one answer means the participant cannot choose any other answers. This could mean that even if no answer is very surprising, some answers may have very few people choose it simply because there was a similar answer that seemed like a safer bet.\n",
    "\n",
    "**observation:** The above result supports this hypothesis.\n",
    "\n",
    "**What to do about this:** Either evaluate single and multi answers separately or come up with another surprise-score-inference method that is more comparable across the two kinds of questions."
   ]
  },
  {
   "cell_type": "markdown",
   "id": "ac70c96f",
   "metadata": {},
   "source": [
    "Let's check if the effect we are seeing above is due to the decrease in number of facts being compared..."
   ]
  },
  {
   "cell_type": "code",
   "execution_count": 743,
   "id": "7b4454d6",
   "metadata": {},
   "outputs": [
    {
     "name": "stdout",
     "output_type": "stream",
     "text": [
      "len(single_ans_gts): 33\n",
      "len(multi_ans_gts): 85\n"
     ]
    }
   ],
   "source": [
    "print(f\"len(single_ans_gts): {len(single_ans_gts)}\")\n",
    "print(f\"len(multi_ans_gts): {len(multi_ans_gts)}\")"
   ]
  },
  {
   "cell_type": "code",
   "execution_count": 744,
   "id": "4cc93312",
   "metadata": {},
   "outputs": [
    {
     "data": {
      "text/plain": [
       "SpearmanrResult(correlation=-0.03149116526040072, pvalue=0.8018067539647361)"
      ]
     },
     "execution_count": 744,
     "metadata": {},
     "output_type": "execute_result"
    }
   ],
   "source": [
    "spearmanr(multi_ans_gts[:33] + single_ans_gts, multi_ans_preds[:33] + single_ans_preds)"
   ]
  },
  {
   "cell_type": "code",
   "execution_count": 745,
   "id": "68191fcc",
   "metadata": {},
   "outputs": [
    {
     "data": {
      "text/plain": [
       "SpearmanrResult(correlation=0.17886051056359697, pvalue=0.3192897690462346)"
      ]
     },
     "execution_count": 745,
     "metadata": {},
     "output_type": "execute_result"
    }
   ],
   "source": [
    "spearmanr(multi_ans_gts[:33], multi_ans_preds[:33])"
   ]
  },
  {
   "cell_type": "code",
   "execution_count": 746,
   "id": "e7d5e6da",
   "metadata": {},
   "outputs": [
    {
     "data": {
      "text/plain": [
       "SpearmanrResult(correlation=0.2939105369545495, pvalue=0.09687748220540489)"
      ]
     },
     "execution_count": 746,
     "metadata": {},
     "output_type": "execute_result"
    }
   ],
   "source": [
    "spearmanr(single_ans_gts,single_ans_preds)"
   ]
  },
  {
   "cell_type": "markdown",
   "id": "21d9c71f",
   "metadata": {},
   "source": [
    "Safe to say it is not due to decrease in size."
   ]
  },
  {
   "cell_type": "markdown",
   "id": "a703f34c",
   "metadata": {},
   "source": [
    "#### Correlation of facts across all questions (with normalization)"
   ]
  },
  {
   "cell_type": "markdown",
   "id": "71e651bd",
   "metadata": {},
   "source": [
    "Start by gathering samples for each class we are dealing with"
   ]
  },
  {
   "cell_type": "code",
   "execution_count": 699,
   "id": "ed975684",
   "metadata": {},
   "outputs": [
    {
     "data": {
      "application/vnd.jupyter.widget-view+json": {
       "model_id": "090f510a22b84e108d5f6ee71bd215af",
       "version_major": 2,
       "version_minor": 0
      },
      "text/plain": [
       "  0%|          | 0/24 [00:00<?, ?it/s]"
      ]
     },
     "metadata": {},
     "output_type": "display_data"
    }
   ],
   "source": [
    "# ent_class_to_sample = {}\n",
    "# for q in tqdm(questions):\n",
    "#     ent_class = q[\"class\"]\n",
    "#     if ent_class not in ent_class_to_sample:\n",
    "#         ent_class_to_sample[ent_class] = get_ents_of_type(\"\", ent_class, limit=10000)"
   ]
  },
  {
   "cell_type": "markdown",
   "id": "5ed0d70b",
   "metadata": {},
   "source": [
    "Now we can compute dispersion of each class once"
   ]
  },
  {
   "cell_type": "code",
   "execution_count": null,
   "id": "8a88a9de",
   "metadata": {},
   "outputs": [],
   "source": [
    "# class_dispersion_dict = {}\n",
    "# for ent_class, sample_ents in tqdm(ent_class_to_sample.items()):\n",
    "#     class_dispersion_dict[ent_class] = compute_avg_pairwise_dist_in_sample(sample_ents, embedding_dict, pariwise_sample=10000)\n",
    "\n",
    "# compute_avg_dist_from_ent_to_sample(ent, sample_ents, embedding_dict)"
   ]
  },
  {
   "cell_type": "markdown",
   "id": "c198506b",
   "metadata": {},
   "source": [
    "ignore above, changed functions to use lru cache"
   ]
  },
  {
   "cell_type": "code",
   "execution_count": 730,
   "id": "9a20ac9b",
   "metadata": {},
   "outputs": [
    {
     "data": {
      "application/vnd.jupyter.widget-view+json": {
       "model_id": "34ad24b2048d4b579729497a40a02a9d",
       "version_major": 2,
       "version_minor": 0
      },
      "text/plain": [
       "  0%|          | 0/24 [00:00<?, ?it/s]"
      ]
     },
     "metadata": {},
     "output_type": "display_data"
    }
   ],
   "source": [
    "for q in tqdm(questions):\n",
    "    q[\"class_surprise_metrics_dict\"] = compute_surprise_metrics_sampling_by_type(q[\"entity\"], q[\"class\"], embedding_models)"
   ]
  },
  {
   "cell_type": "code",
   "execution_count": 748,
   "id": "e01f8e75",
   "metadata": {},
   "outputs": [
    {
     "name": "stdout",
     "output_type": "stream",
     "text": [
      "correlation across all facts (WITH normalization)\n",
      "\tmulti-answer questions only\n",
      "\t\tSpearman: 0.354, pval=0.001\n",
      "\t\tKT: 0.246, pval=0.001\n",
      "\tsingle-answer questions only\n",
      "\t\tSpearman: 0.191, pval=0.287\n",
      "\t\tKT: 0.150, pval=0.235\n",
      "\tall questions\n",
      "\t\tSpearman: 0.186, pval=0.044\n",
      "\t\tKT: 0.122, pval=0.055\n"
     ]
    }
   ],
   "source": [
    "max_count = 26 # 26 test takers\n",
    "emb_name = 'text1024'\n",
    "surprise_metric = 'distance(avg pairwise)/dispersion(avg pairwise)'\n",
    "single_ans_gts = []\n",
    "single_ans_preds = []\n",
    "multi_ans_gts = []\n",
    "multi_ans_preds = []\n",
    "for q in questions:\n",
    "    answers = list(q[\"pred_counts\"].keys())\n",
    "    ans_surprise_gts.extend([max_count - count for count in q[\"pred_counts\"].values()])\n",
    "    q_ans_surprise_preds = []\n",
    "    surprise_of_ent_in_class = q[\"class_surprise_metrics_dict\"][emb_name][surprise_metric]\n",
    "    for ans in answers:\n",
    "        unnormalized_surprise = q[\"ans_to_surprise_metrics_dict\"][ans][emb_name][surprise_metric]\n",
    "        q_ans_surprise_preds.append(unnormalized_surprise / surprise_of_ent_in_class)\n",
    "    if q[\"single_answer\"]:\n",
    "        single_ans_gts.extend([max_count - count for count in q[\"pred_counts\"].values()])\n",
    "        single_ans_preds.extend(q_ans_surprise_preds)\n",
    "    else:\n",
    "        multi_ans_gts.extend([max_count - count for count in q[\"pred_counts\"].values()])\n",
    "        multi_ans_preds.extend(q_ans_surprise_preds)\n",
    "\n",
    "print(\"correlation across all facts (WITH normalization)\")\n",
    "print(\"\\tmulti-answer questions only\")\n",
    "rho, rho_pval = spearmanr(multi_ans_gts, multi_ans_preds)\n",
    "tau, tau_pval = kendalltau(multi_ans_gts, multi_ans_preds)\n",
    "print(f\"\\t\\tSpearman: {rho:.3f}, pval={rho_pval:.3f}\")\n",
    "print(f\"\\t\\tKT: {tau:.3f}, pval={tau_pval:.3f}\")\n",
    "print(\"\\tsingle-answer questions only\")\n",
    "rho, rho_pval = spearmanr(single_ans_gts, single_ans_preds)\n",
    "tau, tau_pval = kendalltau(single_ans_gts, single_ans_preds)\n",
    "print(f\"\\t\\tSpearman: {rho:.3f}, pval={rho_pval:.3f}\")\n",
    "print(f\"\\t\\tKT: {tau:.3f}, pval={tau_pval:.3f}\")\n",
    "print(\"\\tall questions\")\n",
    "rho, rho_pval = spearmanr(multi_ans_gts + single_ans_gts, multi_ans_preds + single_ans_preds)\n",
    "tau, tau_pval = kendalltau(multi_ans_gts + single_ans_gts, multi_ans_preds + single_ans_preds)\n",
    "print(f\"\\t\\tSpearman: {rho:.3f}, pval={rho_pval:.3f}\")\n",
    "print(f\"\\t\\tKT: {tau:.3f}, pval={tau_pval:.3f}\")"
   ]
  },
  {
   "cell_type": "markdown",
   "id": "ced79cf7",
   "metadata": {},
   "source": [
    "**Observation:** As I expected, normalization helps with comparing facts about different entities when looking at multi-answer questions. However, it appears to hurt on the single answer questions. Why could this be?? We do have a much larger p-value for the single answer correlation here, so maybe it is by chance.\n",
    "\n",
    "**Note** I do not think we can say that normalization helps in general here since the increase in correlation on \"all-questions\" could be due to the higher number of multi-answer question facts."
   ]
  },
  {
   "cell_type": "markdown",
   "id": "0184045a",
   "metadata": {},
   "source": [
    "Look at what normalized values look like"
   ]
  },
  {
   "cell_type": "code",
   "execution_count": 736,
   "id": "fe7d3484",
   "metadata": {},
   "outputs": [
    {
     "data": {
      "text/html": [
       "<div>\n",
       "<style scoped>\n",
       "    .dataframe tbody tr th:only-of-type {\n",
       "        vertical-align: middle;\n",
       "    }\n",
       "\n",
       "    .dataframe tbody tr th {\n",
       "        vertical-align: top;\n",
       "    }\n",
       "\n",
       "    .dataframe thead th {\n",
       "        text-align: right;\n",
       "    }\n",
       "</style>\n",
       "<table border=\"1\" class=\"dataframe\">\n",
       "  <thead>\n",
       "    <tr style=\"text-align: right;\">\n",
       "      <th></th>\n",
       "      <th></th>\n",
       "      <th>Singer-songwriter</th>\n",
       "      <th>Dancer</th>\n",
       "      <th>Entrepreneur</th>\n",
       "      <th>Model</th>\n",
       "      <th>Voice Actor</th>\n",
       "    </tr>\n",
       "  </thead>\n",
       "  <tbody>\n",
       "    <tr>\n",
       "      <th>0</th>\n",
       "      <td>gt surprise</td>\n",
       "      <td>1</td>\n",
       "      <td>7</td>\n",
       "      <td>9</td>\n",
       "      <td>11</td>\n",
       "      <td>14</td>\n",
       "    </tr>\n",
       "    <tr>\n",
       "      <th>1</th>\n",
       "      <td>pred surprise</td>\n",
       "      <td>1.48</td>\n",
       "      <td>1.32</td>\n",
       "      <td>1.60</td>\n",
       "      <td>1.12</td>\n",
       "      <td>1.47</td>\n",
       "    </tr>\n",
       "    <tr>\n",
       "      <th>2</th>\n",
       "      <td>normalized pred</td>\n",
       "      <td>1.19</td>\n",
       "      <td>1.06</td>\n",
       "      <td>1.28</td>\n",
       "      <td>0.90</td>\n",
       "      <td>1.18</td>\n",
       "    </tr>\n",
       "  </tbody>\n",
       "</table>\n",
       "</div>"
      ],
      "text/plain": [
       "                   Singer-songwriter Dancer Entrepreneur Model Voice Actor\n",
       "0      gt surprise                 1      7            9    11          14\n",
       "1    pred surprise              1.48   1.32         1.60  1.12        1.47\n",
       "2  normalized pred              1.19   1.06         1.28  0.90        1.18"
      ]
     },
     "metadata": {},
     "output_type": "display_data"
    },
    {
     "name": "stdout",
     "output_type": "stream",
     "text": [
      "spearman r: -0.3\n"
     ]
    },
    {
     "data": {
      "text/html": [
       "<div>\n",
       "<style scoped>\n",
       "    .dataframe tbody tr th:only-of-type {\n",
       "        vertical-align: middle;\n",
       "    }\n",
       "\n",
       "    .dataframe tbody tr th {\n",
       "        vertical-align: top;\n",
       "    }\n",
       "\n",
       "    .dataframe thead th {\n",
       "        text-align: right;\n",
       "    }\n",
       "</style>\n",
       "<table border=\"1\" class=\"dataframe\">\n",
       "  <thead>\n",
       "    <tr style=\"text-align: right;\">\n",
       "      <th></th>\n",
       "      <th></th>\n",
       "      <th>Painter</th>\n",
       "      <th>Engineer</th>\n",
       "      <th>Chemist</th>\n",
       "      <th>Zoologist</th>\n",
       "      <th>Diplomat</th>\n",
       "    </tr>\n",
       "  </thead>\n",
       "  <tbody>\n",
       "    <tr>\n",
       "      <th>0</th>\n",
       "      <td>gt surprise</td>\n",
       "      <td>0</td>\n",
       "      <td>5</td>\n",
       "      <td>14</td>\n",
       "      <td>19</td>\n",
       "      <td>20</td>\n",
       "    </tr>\n",
       "    <tr>\n",
       "      <th>1</th>\n",
       "      <td>pred surprise</td>\n",
       "      <td>1.66</td>\n",
       "      <td>1.17</td>\n",
       "      <td>1.32</td>\n",
       "      <td>1.36</td>\n",
       "      <td>1.21</td>\n",
       "    </tr>\n",
       "    <tr>\n",
       "      <th>2</th>\n",
       "      <td>normalized pred</td>\n",
       "      <td>1.66</td>\n",
       "      <td>1.17</td>\n",
       "      <td>1.32</td>\n",
       "      <td>1.36</td>\n",
       "      <td>1.22</td>\n",
       "    </tr>\n",
       "  </tbody>\n",
       "</table>\n",
       "</div>"
      ],
      "text/plain": [
       "                   Painter Engineer Chemist Zoologist Diplomat\n",
       "0      gt surprise       0        5      14        19       20\n",
       "1    pred surprise    1.66     1.17    1.32      1.36     1.21\n",
       "2  normalized pred    1.66     1.17    1.32      1.36     1.22"
      ]
     },
     "metadata": {},
     "output_type": "display_data"
    },
    {
     "name": "stdout",
     "output_type": "stream",
     "text": [
      "spearman r: -0.3\n"
     ]
    },
    {
     "data": {
      "text/html": [
       "<div>\n",
       "<style scoped>\n",
       "    .dataframe tbody tr th:only-of-type {\n",
       "        vertical-align: middle;\n",
       "    }\n",
       "\n",
       "    .dataframe tbody tr th {\n",
       "        vertical-align: top;\n",
       "    }\n",
       "\n",
       "    .dataframe thead th {\n",
       "        text-align: right;\n",
       "    }\n",
       "</style>\n",
       "<table border=\"1\" class=\"dataframe\">\n",
       "  <thead>\n",
       "    <tr style=\"text-align: right;\">\n",
       "      <th></th>\n",
       "      <th></th>\n",
       "      <th>&gt; 240</th>\n",
       "      <th>&gt; 210 and &lt;= 240</th>\n",
       "      <th>&gt; 195 and &lt;= 210</th>\n",
       "      <th>&gt; 1 and &lt;= 181</th>\n",
       "      <th>&gt; 181 and &lt;= 195</th>\n",
       "    </tr>\n",
       "  </thead>\n",
       "  <tbody>\n",
       "    <tr>\n",
       "      <th>0</th>\n",
       "      <td>gt surprise</td>\n",
       "      <td>15</td>\n",
       "      <td>15</td>\n",
       "      <td>22</td>\n",
       "      <td>26</td>\n",
       "      <td>26</td>\n",
       "    </tr>\n",
       "    <tr>\n",
       "      <th>1</th>\n",
       "      <td>pred surprise</td>\n",
       "      <td>2.82</td>\n",
       "      <td>1.39</td>\n",
       "      <td>1.38</td>\n",
       "      <td>1.65</td>\n",
       "      <td>1.45</td>\n",
       "    </tr>\n",
       "    <tr>\n",
       "      <th>2</th>\n",
       "      <td>normalized pred</td>\n",
       "      <td>2.01</td>\n",
       "      <td>0.99</td>\n",
       "      <td>0.99</td>\n",
       "      <td>1.18</td>\n",
       "      <td>1.03</td>\n",
       "    </tr>\n",
       "  </tbody>\n",
       "</table>\n",
       "</div>"
      ],
      "text/plain": [
       "                   > 240 > 210 and <= 240 > 195 and <= 210 > 1 and <= 181  \\\n",
       "0      gt surprise    15               15               22             26   \n",
       "1    pred surprise  2.82             1.39             1.38           1.65   \n",
       "2  normalized pred  2.01             0.99             0.99           1.18   \n",
       "\n",
       "  > 181 and <= 195  \n",
       "0               26  \n",
       "1             1.45  \n",
       "2             1.03  "
      ]
     },
     "metadata": {},
     "output_type": "display_data"
    },
    {
     "name": "stdout",
     "output_type": "stream",
     "text": [
      "spearman r: 0.0\n"
     ]
    },
    {
     "data": {
      "text/html": [
       "<div>\n",
       "<style scoped>\n",
       "    .dataframe tbody tr th:only-of-type {\n",
       "        vertical-align: middle;\n",
       "    }\n",
       "\n",
       "    .dataframe tbody tr th {\n",
       "        vertical-align: top;\n",
       "    }\n",
       "\n",
       "    .dataframe thead th {\n",
       "        text-align: right;\n",
       "    }\n",
       "</style>\n",
       "<table border=\"1\" class=\"dataframe\">\n",
       "  <thead>\n",
       "    <tr style=\"text-align: right;\">\n",
       "      <th></th>\n",
       "      <th></th>\n",
       "      <th>Amateur Wrestling</th>\n",
       "      <th>Boxing</th>\n",
       "      <th>Rugby</th>\n",
       "      <th>Baseball</th>\n",
       "      <th>American Football</th>\n",
       "    </tr>\n",
       "  </thead>\n",
       "  <tbody>\n",
       "    <tr>\n",
       "      <th>0</th>\n",
       "      <td>gt surprise</td>\n",
       "      <td>8</td>\n",
       "      <td>17</td>\n",
       "      <td>22</td>\n",
       "      <td>23</td>\n",
       "      <td>24</td>\n",
       "    </tr>\n",
       "    <tr>\n",
       "      <th>1</th>\n",
       "      <td>pred surprise</td>\n",
       "      <td>4.30</td>\n",
       "      <td>2.17</td>\n",
       "      <td>2.57</td>\n",
       "      <td>2.73</td>\n",
       "      <td>3.74</td>\n",
       "    </tr>\n",
       "    <tr>\n",
       "      <th>2</th>\n",
       "      <td>normalized pred</td>\n",
       "      <td>3.85</td>\n",
       "      <td>1.94</td>\n",
       "      <td>2.30</td>\n",
       "      <td>2.44</td>\n",
       "      <td>3.35</td>\n",
       "    </tr>\n",
       "  </tbody>\n",
       "</table>\n",
       "</div>"
      ],
      "text/plain": [
       "                   Amateur Wrestling Boxing Rugby Baseball American Football\n",
       "0      gt surprise                 8     17    22       23                24\n",
       "1    pred surprise              4.30   2.17  2.57     2.73              3.74\n",
       "2  normalized pred              3.85   1.94  2.30     2.44              3.35"
      ]
     },
     "metadata": {},
     "output_type": "display_data"
    },
    {
     "name": "stdout",
     "output_type": "stream",
     "text": [
      "spearman r: 0.0\n"
     ]
    },
    {
     "data": {
      "text/html": [
       "<div>\n",
       "<style scoped>\n",
       "    .dataframe tbody tr th:only-of-type {\n",
       "        vertical-align: middle;\n",
       "    }\n",
       "\n",
       "    .dataframe tbody tr th {\n",
       "        vertical-align: top;\n",
       "    }\n",
       "\n",
       "    .dataframe thead th {\n",
       "        text-align: right;\n",
       "    }\n",
       "</style>\n",
       "<table border=\"1\" class=\"dataframe\">\n",
       "  <thead>\n",
       "    <tr style=\"text-align: right;\">\n",
       "      <th></th>\n",
       "      <th></th>\n",
       "      <th>Republican Party</th>\n",
       "      <th>Democratic Party</th>\n",
       "      <th>Communist Party of the Soviet Union</th>\n",
       "      <th>National Socialist German Workers' Party</th>\n",
       "      <th>Social Democratic Party of Germany</th>\n",
       "    </tr>\n",
       "  </thead>\n",
       "  <tbody>\n",
       "    <tr>\n",
       "      <th>0</th>\n",
       "      <td>gt surprise</td>\n",
       "      <td>0</td>\n",
       "      <td>10</td>\n",
       "      <td>26</td>\n",
       "      <td>26</td>\n",
       "      <td>26</td>\n",
       "    </tr>\n",
       "    <tr>\n",
       "      <th>1</th>\n",
       "      <td>pred surprise</td>\n",
       "      <td>1.60</td>\n",
       "      <td>1.70</td>\n",
       "      <td>1.76</td>\n",
       "      <td>1.52</td>\n",
       "      <td>1.83</td>\n",
       "    </tr>\n",
       "    <tr>\n",
       "      <th>2</th>\n",
       "      <td>normalized pred</td>\n",
       "      <td>1.14</td>\n",
       "      <td>1.21</td>\n",
       "      <td>1.25</td>\n",
       "      <td>1.08</td>\n",
       "      <td>1.31</td>\n",
       "    </tr>\n",
       "  </tbody>\n",
       "</table>\n",
       "</div>"
      ],
      "text/plain": [
       "                   Republican Party Democratic Party  \\\n",
       "0      gt surprise                0               10   \n",
       "1    pred surprise             1.60             1.70   \n",
       "2  normalized pred             1.14             1.21   \n",
       "\n",
       "  Communist Party of the Soviet Union  \\\n",
       "0                                  26   \n",
       "1                                1.76   \n",
       "2                                1.25   \n",
       "\n",
       "  National Socialist German Workers' Party Social Democratic Party of Germany  \n",
       "0                                       26                                 26  \n",
       "1                                     1.52                               1.83  \n",
       "2                                     1.08                               1.31  "
      ]
     },
     "metadata": {},
     "output_type": "display_data"
    },
    {
     "name": "stdout",
     "output_type": "stream",
     "text": [
      "spearman r: 0.3354101966249684\n"
     ]
    },
    {
     "data": {
      "text/html": [
       "<div>\n",
       "<style scoped>\n",
       "    .dataframe tbody tr th:only-of-type {\n",
       "        vertical-align: middle;\n",
       "    }\n",
       "\n",
       "    .dataframe tbody tr th {\n",
       "        vertical-align: top;\n",
       "    }\n",
       "\n",
       "    .dataframe thead th {\n",
       "        text-align: right;\n",
       "    }\n",
       "</style>\n",
       "<table border=\"1\" class=\"dataframe\">\n",
       "  <thead>\n",
       "    <tr style=\"text-align: right;\">\n",
       "      <th></th>\n",
       "      <th></th>\n",
       "      <th>Basketball Player</th>\n",
       "      <th>Television Actor</th>\n",
       "      <th>Writer</th>\n",
       "      <th>Screenwriter</th>\n",
       "      <th>Researcher</th>\n",
       "    </tr>\n",
       "  </thead>\n",
       "  <tbody>\n",
       "    <tr>\n",
       "      <th>0</th>\n",
       "      <td>gt surprise</td>\n",
       "      <td>0</td>\n",
       "      <td>13</td>\n",
       "      <td>22</td>\n",
       "      <td>23</td>\n",
       "      <td>25</td>\n",
       "    </tr>\n",
       "    <tr>\n",
       "      <th>1</th>\n",
       "      <td>pred surprise</td>\n",
       "      <td>1.91</td>\n",
       "      <td>1.61</td>\n",
       "      <td>1.66</td>\n",
       "      <td>1.69</td>\n",
       "      <td>3.91</td>\n",
       "    </tr>\n",
       "    <tr>\n",
       "      <th>2</th>\n",
       "      <td>normalized pred</td>\n",
       "      <td>1.67</td>\n",
       "      <td>1.41</td>\n",
       "      <td>1.45</td>\n",
       "      <td>1.48</td>\n",
       "      <td>3.42</td>\n",
       "    </tr>\n",
       "  </tbody>\n",
       "</table>\n",
       "</div>"
      ],
      "text/plain": [
       "                   Basketball Player Television Actor Writer Screenwriter  \\\n",
       "0      gt surprise                 0               13     22           23   \n",
       "1    pred surprise              1.91             1.61   1.66         1.69   \n",
       "2  normalized pred              1.67             1.41   1.45         1.48   \n",
       "\n",
       "  Researcher  \n",
       "0         25  \n",
       "1       3.91  \n",
       "2       3.42  "
      ]
     },
     "metadata": {},
     "output_type": "display_data"
    },
    {
     "name": "stdout",
     "output_type": "stream",
     "text": [
      "spearman r: 0.39999999999999997\n"
     ]
    },
    {
     "data": {
      "text/html": [
       "<div>\n",
       "<style scoped>\n",
       "    .dataframe tbody tr th:only-of-type {\n",
       "        vertical-align: middle;\n",
       "    }\n",
       "\n",
       "    .dataframe tbody tr th {\n",
       "        vertical-align: top;\n",
       "    }\n",
       "\n",
       "    .dataframe thead th {\n",
       "        text-align: right;\n",
       "    }\n",
       "</style>\n",
       "<table border=\"1\" class=\"dataframe\">\n",
       "  <thead>\n",
       "    <tr style=\"text-align: right;\">\n",
       "      <th></th>\n",
       "      <th></th>\n",
       "      <th>62.5 to 65.0</th>\n",
       "      <th>55.0 to 60.0</th>\n",
       "      <th>60.0 to 62.5</th>\n",
       "      <th>65.25 to 67.0</th>\n",
       "    </tr>\n",
       "  </thead>\n",
       "  <tbody>\n",
       "    <tr>\n",
       "      <th>0</th>\n",
       "      <td>gt surprise</td>\n",
       "      <td>16</td>\n",
       "      <td>19</td>\n",
       "      <td>21</td>\n",
       "      <td>22</td>\n",
       "    </tr>\n",
       "    <tr>\n",
       "      <th>1</th>\n",
       "      <td>pred surprise</td>\n",
       "      <td>0.86</td>\n",
       "      <td>1.00</td>\n",
       "      <td>1.01</td>\n",
       "      <td>0.87</td>\n",
       "    </tr>\n",
       "    <tr>\n",
       "      <th>2</th>\n",
       "      <td>normalized pred</td>\n",
       "      <td>0.98</td>\n",
       "      <td>1.14</td>\n",
       "      <td>1.15</td>\n",
       "      <td>1.00</td>\n",
       "    </tr>\n",
       "  </tbody>\n",
       "</table>\n",
       "</div>"
      ],
      "text/plain": [
       "                   62.5 to 65.0 55.0 to 60.0 60.0 to 62.5 65.25 to 67.0\n",
       "0      gt surprise           16           19           21            22\n",
       "1    pred surprise         0.86         1.00         1.01          0.87\n",
       "2  normalized pred         0.98         1.14         1.15          1.00"
      ]
     },
     "metadata": {},
     "output_type": "display_data"
    },
    {
     "name": "stdout",
     "output_type": "stream",
     "text": [
      "spearman r: 0.39999999999999997\n"
     ]
    },
    {
     "data": {
      "text/html": [
       "<div>\n",
       "<style scoped>\n",
       "    .dataframe tbody tr th:only-of-type {\n",
       "        vertical-align: middle;\n",
       "    }\n",
       "\n",
       "    .dataframe tbody tr th {\n",
       "        vertical-align: top;\n",
       "    }\n",
       "\n",
       "    .dataframe thead th {\n",
       "        text-align: right;\n",
       "    }\n",
       "</style>\n",
       "<table border=\"1\" class=\"dataframe\">\n",
       "  <thead>\n",
       "    <tr style=\"text-align: right;\">\n",
       "      <th></th>\n",
       "      <th></th>\n",
       "      <th>Romantic Comedy</th>\n",
       "      <th>Fantasy Film</th>\n",
       "      <th>Film Based on a Novel</th>\n",
       "      <th>Drama</th>\n",
       "      <th>Musical Film</th>\n",
       "    </tr>\n",
       "  </thead>\n",
       "  <tbody>\n",
       "    <tr>\n",
       "      <th>0</th>\n",
       "      <td>gt surprise</td>\n",
       "      <td>8</td>\n",
       "      <td>10</td>\n",
       "      <td>15</td>\n",
       "      <td>23</td>\n",
       "      <td>23</td>\n",
       "    </tr>\n",
       "    <tr>\n",
       "      <th>1</th>\n",
       "      <td>pred surprise</td>\n",
       "      <td>1.02</td>\n",
       "      <td>1.09</td>\n",
       "      <td>1.08</td>\n",
       "      <td>1.11</td>\n",
       "      <td>1.06</td>\n",
       "    </tr>\n",
       "    <tr>\n",
       "      <th>2</th>\n",
       "      <td>normalized pred</td>\n",
       "      <td>0.93</td>\n",
       "      <td>1.00</td>\n",
       "      <td>0.98</td>\n",
       "      <td>1.01</td>\n",
       "      <td>0.97</td>\n",
       "    </tr>\n",
       "  </tbody>\n",
       "</table>\n",
       "</div>"
      ],
      "text/plain": [
       "                   Romantic Comedy Fantasy Film Film Based on a Novel Drama  \\\n",
       "0      gt surprise               8           10                    15    23   \n",
       "1    pred surprise            1.02         1.09                  1.08  1.11   \n",
       "2  normalized pred            0.93         1.00                  0.98  1.01   \n",
       "\n",
       "  Musical Film  \n",
       "0           23  \n",
       "1         1.06  \n",
       "2         0.97  "
      ]
     },
     "metadata": {},
     "output_type": "display_data"
    },
    {
     "name": "stdout",
     "output_type": "stream",
     "text": [
      "spearman r: 0.46169025843831935\n"
     ]
    },
    {
     "data": {
      "text/html": [
       "<div>\n",
       "<style scoped>\n",
       "    .dataframe tbody tr th:only-of-type {\n",
       "        vertical-align: middle;\n",
       "    }\n",
       "\n",
       "    .dataframe tbody tr th {\n",
       "        vertical-align: top;\n",
       "    }\n",
       "\n",
       "    .dataframe thead th {\n",
       "        text-align: right;\n",
       "    }\n",
       "</style>\n",
       "<table border=\"1\" class=\"dataframe\">\n",
       "  <thead>\n",
       "    <tr style=\"text-align: right;\">\n",
       "      <th></th>\n",
       "      <th></th>\n",
       "      <th>8.4 to 27.9</th>\n",
       "      <th>2.6 to 5.7</th>\n",
       "      <th>1.5 to 2.5</th>\n",
       "      <th>0.3 to 1.4</th>\n",
       "      <th>0.0 to 0.2</th>\n",
       "    </tr>\n",
       "  </thead>\n",
       "  <tbody>\n",
       "    <tr>\n",
       "      <th>0</th>\n",
       "      <td>gt surprise</td>\n",
       "      <td>15</td>\n",
       "      <td>15</td>\n",
       "      <td>24</td>\n",
       "      <td>25</td>\n",
       "      <td>25</td>\n",
       "    </tr>\n",
       "    <tr>\n",
       "      <th>1</th>\n",
       "      <td>pred surprise</td>\n",
       "      <td>1.37</td>\n",
       "      <td>1.09</td>\n",
       "      <td>1.13</td>\n",
       "      <td>1.16</td>\n",
       "      <td>1.62</td>\n",
       "    </tr>\n",
       "    <tr>\n",
       "      <th>2</th>\n",
       "      <td>normalized pred</td>\n",
       "      <td>1.10</td>\n",
       "      <td>0.88</td>\n",
       "      <td>0.91</td>\n",
       "      <td>0.94</td>\n",
       "      <td>1.31</td>\n",
       "    </tr>\n",
       "  </tbody>\n",
       "</table>\n",
       "</div>"
      ],
      "text/plain": [
       "                   8.4 to 27.9 2.6 to 5.7 1.5 to 2.5 0.3 to 1.4 0.0 to 0.2\n",
       "0      gt surprise          15         15         24         25         25\n",
       "1    pred surprise        1.37       1.09       1.13       1.16       1.62\n",
       "2  normalized pred        1.10       0.88       0.91       0.94       1.31"
      ]
     },
     "metadata": {},
     "output_type": "display_data"
    },
    {
     "name": "stdout",
     "output_type": "stream",
     "text": [
      "spearman r: 0.47434164902525683\n"
     ]
    },
    {
     "data": {
      "text/html": [
       "<div>\n",
       "<style scoped>\n",
       "    .dataframe tbody tr th:only-of-type {\n",
       "        vertical-align: middle;\n",
       "    }\n",
       "\n",
       "    .dataframe tbody tr th {\n",
       "        vertical-align: top;\n",
       "    }\n",
       "\n",
       "    .dataframe thead th {\n",
       "        text-align: right;\n",
       "    }\n",
       "</style>\n",
       "<table border=\"1\" class=\"dataframe\">\n",
       "  <thead>\n",
       "    <tr style=\"text-align: right;\">\n",
       "      <th></th>\n",
       "      <th></th>\n",
       "      <th>Voice Actor</th>\n",
       "      <th>Musician</th>\n",
       "      <th>Politician</th>\n",
       "      <th>Writer</th>\n",
       "      <th>Chess Player</th>\n",
       "    </tr>\n",
       "  </thead>\n",
       "  <tbody>\n",
       "    <tr>\n",
       "      <th>0</th>\n",
       "      <td>gt surprise</td>\n",
       "      <td>4</td>\n",
       "      <td>16</td>\n",
       "      <td>22</td>\n",
       "      <td>23</td>\n",
       "      <td>25</td>\n",
       "    </tr>\n",
       "    <tr>\n",
       "      <th>1</th>\n",
       "      <td>pred surprise</td>\n",
       "      <td>1.19</td>\n",
       "      <td>1.81</td>\n",
       "      <td>1.64</td>\n",
       "      <td>1.54</td>\n",
       "      <td>5.48</td>\n",
       "    </tr>\n",
       "    <tr>\n",
       "      <th>2</th>\n",
       "      <td>normalized pred</td>\n",
       "      <td>1.07</td>\n",
       "      <td>1.62</td>\n",
       "      <td>1.47</td>\n",
       "      <td>1.38</td>\n",
       "      <td>4.90</td>\n",
       "    </tr>\n",
       "  </tbody>\n",
       "</table>\n",
       "</div>"
      ],
      "text/plain": [
       "                   Voice Actor Musician Politician Writer Chess Player\n",
       "0      gt surprise           4       16         22     23           25\n",
       "1    pred surprise        1.19     1.81       1.64   1.54         5.48\n",
       "2  normalized pred        1.07     1.62       1.47   1.38         4.90"
      ]
     },
     "metadata": {},
     "output_type": "display_data"
    },
    {
     "name": "stdout",
     "output_type": "stream",
     "text": [
      "spearman r: 0.6\n"
     ]
    },
    {
     "data": {
      "text/html": [
       "<div>\n",
       "<style scoped>\n",
       "    .dataframe tbody tr th:only-of-type {\n",
       "        vertical-align: middle;\n",
       "    }\n",
       "\n",
       "    .dataframe tbody tr th {\n",
       "        vertical-align: top;\n",
       "    }\n",
       "\n",
       "    .dataframe thead th {\n",
       "        text-align: right;\n",
       "    }\n",
       "</style>\n",
       "<table border=\"1\" class=\"dataframe\">\n",
       "  <thead>\n",
       "    <tr style=\"text-align: right;\">\n",
       "      <th></th>\n",
       "      <th></th>\n",
       "      <th>438,000,000 to 1,590,000,000</th>\n",
       "      <th>1,610,000,000 to 6,745,000,000</th>\n",
       "      <th>113,000,000 to 427,800,000</th>\n",
       "      <th>6,764,000,000 to 217,267,000,000</th>\n",
       "      <th>1 to 108,589,000</th>\n",
       "    </tr>\n",
       "  </thead>\n",
       "  <tbody>\n",
       "    <tr>\n",
       "      <th>0</th>\n",
       "      <td>gt surprise</td>\n",
       "      <td>15</td>\n",
       "      <td>20</td>\n",
       "      <td>21</td>\n",
       "      <td>22</td>\n",
       "      <td>26</td>\n",
       "    </tr>\n",
       "    <tr>\n",
       "      <th>1</th>\n",
       "      <td>pred surprise</td>\n",
       "      <td>0.90</td>\n",
       "      <td>0.87</td>\n",
       "      <td>0.85</td>\n",
       "      <td>0.95</td>\n",
       "      <td>0.98</td>\n",
       "    </tr>\n",
       "    <tr>\n",
       "      <th>2</th>\n",
       "      <td>normalized pred</td>\n",
       "      <td>0.75</td>\n",
       "      <td>0.72</td>\n",
       "      <td>0.70</td>\n",
       "      <td>0.79</td>\n",
       "      <td>0.81</td>\n",
       "    </tr>\n",
       "  </tbody>\n",
       "</table>\n",
       "</div>"
      ],
      "text/plain": [
       "                   438,000,000 to 1,590,000,000  \\\n",
       "0      gt surprise                           15   \n",
       "1    pred surprise                         0.90   \n",
       "2  normalized pred                         0.75   \n",
       "\n",
       "  1,610,000,000 to 6,745,000,000 113,000,000 to 427,800,000  \\\n",
       "0                             20                         21   \n",
       "1                           0.87                       0.85   \n",
       "2                           0.72                       0.70   \n",
       "\n",
       "  6,764,000,000 to 217,267,000,000 1 to 108,589,000  \n",
       "0                               22               26  \n",
       "1                             0.95             0.98  \n",
       "2                             0.79             0.81  "
      ]
     },
     "metadata": {},
     "output_type": "display_data"
    },
    {
     "name": "stdout",
     "output_type": "stream",
     "text": [
      "spearman r: 0.6\n"
     ]
    },
    {
     "data": {
      "text/html": [
       "<div>\n",
       "<style scoped>\n",
       "    .dataframe tbody tr th:only-of-type {\n",
       "        vertical-align: middle;\n",
       "    }\n",
       "\n",
       "    .dataframe tbody tr th {\n",
       "        vertical-align: top;\n",
       "    }\n",
       "\n",
       "    .dataframe thead th {\n",
       "        text-align: right;\n",
       "    }\n",
       "</style>\n",
       "<table border=\"1\" class=\"dataframe\">\n",
       "  <thead>\n",
       "    <tr style=\"text-align: right;\">\n",
       "      <th></th>\n",
       "      <th></th>\n",
       "      <th>Singer</th>\n",
       "      <th>Politician</th>\n",
       "      <th>Film Director</th>\n",
       "      <th>Architect</th>\n",
       "      <th>Sport Cyclist</th>\n",
       "    </tr>\n",
       "  </thead>\n",
       "  <tbody>\n",
       "    <tr>\n",
       "      <th>0</th>\n",
       "      <td>gt surprise</td>\n",
       "      <td>0</td>\n",
       "      <td>13</td>\n",
       "      <td>18</td>\n",
       "      <td>26</td>\n",
       "      <td>26</td>\n",
       "    </tr>\n",
       "    <tr>\n",
       "      <th>1</th>\n",
       "      <td>pred surprise</td>\n",
       "      <td>1.83</td>\n",
       "      <td>1.88</td>\n",
       "      <td>1.82</td>\n",
       "      <td>2.00</td>\n",
       "      <td>3.38</td>\n",
       "    </tr>\n",
       "    <tr>\n",
       "      <th>2</th>\n",
       "      <td>normalized pred</td>\n",
       "      <td>1.41</td>\n",
       "      <td>1.45</td>\n",
       "      <td>1.40</td>\n",
       "      <td>1.54</td>\n",
       "      <td>2.60</td>\n",
       "    </tr>\n",
       "  </tbody>\n",
       "</table>\n",
       "</div>"
      ],
      "text/plain": [
       "                   Singer Politician Film Director Architect Sport Cyclist\n",
       "0      gt surprise      0         13            18        26            26\n",
       "1    pred surprise   1.83       1.88          1.82      2.00          3.38\n",
       "2  normalized pred   1.41       1.45          1.40      1.54          2.60"
      ]
     },
     "metadata": {},
     "output_type": "display_data"
    },
    {
     "name": "stdout",
     "output_type": "stream",
     "text": [
      "spearman r: 0.6668859288553503\n"
     ]
    },
    {
     "data": {
      "text/html": [
       "<div>\n",
       "<style scoped>\n",
       "    .dataframe tbody tr th:only-of-type {\n",
       "        vertical-align: middle;\n",
       "    }\n",
       "\n",
       "    .dataframe tbody tr th {\n",
       "        vertical-align: top;\n",
       "    }\n",
       "\n",
       "    .dataframe thead th {\n",
       "        text-align: right;\n",
       "    }\n",
       "</style>\n",
       "<table border=\"1\" class=\"dataframe\">\n",
       "  <thead>\n",
       "    <tr style=\"text-align: right;\">\n",
       "      <th></th>\n",
       "      <th></th>\n",
       "      <th>76.6 to 85.4</th>\n",
       "      <th>73.9 to 76.6</th>\n",
       "      <th>70.2 to 73.8</th>\n",
       "      <th>63.3 to 69.9</th>\n",
       "      <th>51.8 to 63.2</th>\n",
       "    </tr>\n",
       "  </thead>\n",
       "  <tbody>\n",
       "    <tr>\n",
       "      <th>0</th>\n",
       "      <td>gt surprise</td>\n",
       "      <td>18</td>\n",
       "      <td>18</td>\n",
       "      <td>19</td>\n",
       "      <td>23</td>\n",
       "      <td>26</td>\n",
       "    </tr>\n",
       "    <tr>\n",
       "      <th>1</th>\n",
       "      <td>pred surprise</td>\n",
       "      <td>1.11</td>\n",
       "      <td>1.12</td>\n",
       "      <td>1.11</td>\n",
       "      <td>1.28</td>\n",
       "      <td>1.44</td>\n",
       "    </tr>\n",
       "    <tr>\n",
       "      <th>2</th>\n",
       "      <td>normalized pred</td>\n",
       "      <td>1.12</td>\n",
       "      <td>1.12</td>\n",
       "      <td>1.11</td>\n",
       "      <td>1.28</td>\n",
       "      <td>1.44</td>\n",
       "    </tr>\n",
       "  </tbody>\n",
       "</table>\n",
       "</div>"
      ],
      "text/plain": [
       "                   76.6 to 85.4 73.9 to 76.6 70.2 to 73.8 63.3 to 69.9  \\\n",
       "0      gt surprise           18           18           19           23   \n",
       "1    pred surprise         1.11         1.12         1.11         1.28   \n",
       "2  normalized pred         1.12         1.12         1.11         1.28   \n",
       "\n",
       "  51.8 to 63.2  \n",
       "0           26  \n",
       "1         1.44  \n",
       "2         1.44  "
      ]
     },
     "metadata": {},
     "output_type": "display_data"
    },
    {
     "name": "stdout",
     "output_type": "stream",
     "text": [
      "spearman r: 0.6668859288553503\n"
     ]
    },
    {
     "data": {
      "text/html": [
       "<div>\n",
       "<style scoped>\n",
       "    .dataframe tbody tr th:only-of-type {\n",
       "        vertical-align: middle;\n",
       "    }\n",
       "\n",
       "    .dataframe tbody tr th {\n",
       "        vertical-align: top;\n",
       "    }\n",
       "\n",
       "    .dataframe thead th {\n",
       "        text-align: right;\n",
       "    }\n",
       "</style>\n",
       "<table border=\"1\" class=\"dataframe\">\n",
       "  <thead>\n",
       "    <tr style=\"text-align: right;\">\n",
       "      <th></th>\n",
       "      <th></th>\n",
       "      <th>Television Presenter</th>\n",
       "      <th>Writer</th>\n",
       "      <th>Television Actor</th>\n",
       "      <th>Film Actor</th>\n",
       "      <th>Film Producer</th>\n",
       "    </tr>\n",
       "  </thead>\n",
       "  <tbody>\n",
       "    <tr>\n",
       "      <th>0</th>\n",
       "      <td>gt surprise</td>\n",
       "      <td>4</td>\n",
       "      <td>9</td>\n",
       "      <td>14</td>\n",
       "      <td>16</td>\n",
       "      <td>19</td>\n",
       "    </tr>\n",
       "    <tr>\n",
       "      <th>1</th>\n",
       "      <td>pred surprise</td>\n",
       "      <td>1.17</td>\n",
       "      <td>1.64</td>\n",
       "      <td>1.23</td>\n",
       "      <td>1.37</td>\n",
       "      <td>1.78</td>\n",
       "    </tr>\n",
       "    <tr>\n",
       "      <th>2</th>\n",
       "      <td>normalized pred</td>\n",
       "      <td>0.96</td>\n",
       "      <td>1.35</td>\n",
       "      <td>1.00</td>\n",
       "      <td>1.13</td>\n",
       "      <td>1.46</td>\n",
       "    </tr>\n",
       "  </tbody>\n",
       "</table>\n",
       "</div>"
      ],
      "text/plain": [
       "                   Television Presenter Writer Television Actor Film Actor  \\\n",
       "0      gt surprise                    4      9               14         16   \n",
       "1    pred surprise                 1.17   1.64             1.23       1.37   \n",
       "2  normalized pred                 0.96   1.35             1.00       1.13   \n",
       "\n",
       "  Film Producer  \n",
       "0            19  \n",
       "1          1.78  \n",
       "2          1.46  "
      ]
     },
     "metadata": {},
     "output_type": "display_data"
    },
    {
     "name": "stdout",
     "output_type": "stream",
     "text": [
      "spearman r: 0.7\n"
     ]
    },
    {
     "data": {
      "text/html": [
       "<div>\n",
       "<style scoped>\n",
       "    .dataframe tbody tr th:only-of-type {\n",
       "        vertical-align: middle;\n",
       "    }\n",
       "\n",
       "    .dataframe tbody tr th {\n",
       "        vertical-align: top;\n",
       "    }\n",
       "\n",
       "    .dataframe thead th {\n",
       "        text-align: right;\n",
       "    }\n",
       "</style>\n",
       "<table border=\"1\" class=\"dataframe\">\n",
       "  <thead>\n",
       "    <tr style=\"text-align: right;\">\n",
       "      <th></th>\n",
       "      <th></th>\n",
       "      <th>History Painting</th>\n",
       "      <th>Cityscape</th>\n",
       "      <th>Landscape Art</th>\n",
       "      <th>Portrait</th>\n",
       "      <th>Self-Portrait</th>\n",
       "    </tr>\n",
       "  </thead>\n",
       "  <tbody>\n",
       "    <tr>\n",
       "      <th>0</th>\n",
       "      <td>gt surprise</td>\n",
       "      <td>6</td>\n",
       "      <td>19</td>\n",
       "      <td>21</td>\n",
       "      <td>23</td>\n",
       "      <td>26</td>\n",
       "    </tr>\n",
       "    <tr>\n",
       "      <th>1</th>\n",
       "      <td>pred surprise</td>\n",
       "      <td>0.82</td>\n",
       "      <td>0.78</td>\n",
       "      <td>0.80</td>\n",
       "      <td>0.86</td>\n",
       "      <td>1.39</td>\n",
       "    </tr>\n",
       "    <tr>\n",
       "      <th>2</th>\n",
       "      <td>normalized pred</td>\n",
       "      <td>1.08</td>\n",
       "      <td>1.04</td>\n",
       "      <td>1.06</td>\n",
       "      <td>1.14</td>\n",
       "      <td>1.84</td>\n",
       "    </tr>\n",
       "  </tbody>\n",
       "</table>\n",
       "</div>"
      ],
      "text/plain": [
       "                   History Painting Cityscape Landscape Art Portrait  \\\n",
       "0      gt surprise                6        19            21       23   \n",
       "1    pred surprise             0.82      0.78          0.80     0.86   \n",
       "2  normalized pred             1.08      1.04          1.06     1.14   \n",
       "\n",
       "  Self-Portrait  \n",
       "0            26  \n",
       "1          1.39  \n",
       "2          1.84  "
      ]
     },
     "metadata": {},
     "output_type": "display_data"
    },
    {
     "name": "stdout",
     "output_type": "stream",
     "text": [
      "spearman r: 0.7\n"
     ]
    },
    {
     "data": {
      "text/html": [
       "<div>\n",
       "<style scoped>\n",
       "    .dataframe tbody tr th:only-of-type {\n",
       "        vertical-align: middle;\n",
       "    }\n",
       "\n",
       "    .dataframe tbody tr th {\n",
       "        vertical-align: top;\n",
       "    }\n",
       "\n",
       "    .dataframe thead th {\n",
       "        text-align: right;\n",
       "    }\n",
       "</style>\n",
       "<table border=\"1\" class=\"dataframe\">\n",
       "  <thead>\n",
       "    <tr style=\"text-align: right;\">\n",
       "      <th></th>\n",
       "      <th></th>\n",
       "      <th>Russian</th>\n",
       "      <th>English</th>\n",
       "      <th>German</th>\n",
       "      <th>Swedish</th>\n",
       "      <th>Spanish</th>\n",
       "    </tr>\n",
       "  </thead>\n",
       "  <tbody>\n",
       "    <tr>\n",
       "      <th>0</th>\n",
       "      <td>gt surprise</td>\n",
       "      <td>1</td>\n",
       "      <td>13</td>\n",
       "      <td>19</td>\n",
       "      <td>20</td>\n",
       "      <td>26</td>\n",
       "    </tr>\n",
       "    <tr>\n",
       "      <th>1</th>\n",
       "      <td>pred surprise</td>\n",
       "      <td>1.14</td>\n",
       "      <td>1.12</td>\n",
       "      <td>1.16</td>\n",
       "      <td>1.43</td>\n",
       "      <td>1.32</td>\n",
       "    </tr>\n",
       "    <tr>\n",
       "      <th>2</th>\n",
       "      <td>normalized pred</td>\n",
       "      <td>0.98</td>\n",
       "      <td>0.96</td>\n",
       "      <td>1.00</td>\n",
       "      <td>1.23</td>\n",
       "      <td>1.14</td>\n",
       "    </tr>\n",
       "  </tbody>\n",
       "</table>\n",
       "</div>"
      ],
      "text/plain": [
       "                   Russian English German Swedish Spanish\n",
       "0      gt surprise       1      13     19      20      26\n",
       "1    pred surprise    1.14    1.12   1.16    1.43    1.32\n",
       "2  normalized pred    0.98    0.96   1.00    1.23    1.14"
      ]
     },
     "metadata": {},
     "output_type": "display_data"
    },
    {
     "name": "stdout",
     "output_type": "stream",
     "text": [
      "spearman r: 0.7999999999999999\n"
     ]
    },
    {
     "data": {
      "text/html": [
       "<div>\n",
       "<style scoped>\n",
       "    .dataframe tbody tr th:only-of-type {\n",
       "        vertical-align: middle;\n",
       "    }\n",
       "\n",
       "    .dataframe tbody tr th {\n",
       "        vertical-align: top;\n",
       "    }\n",
       "\n",
       "    .dataframe thead th {\n",
       "        text-align: right;\n",
       "    }\n",
       "</style>\n",
       "<table border=\"1\" class=\"dataframe\">\n",
       "  <thead>\n",
       "    <tr style=\"text-align: right;\">\n",
       "      <th></th>\n",
       "      <th></th>\n",
       "      <th>Politician</th>\n",
       "      <th>Military Officer</th>\n",
       "      <th>Painter</th>\n",
       "      <th>Rugby Union Player</th>\n",
       "      <th>Singer</th>\n",
       "    </tr>\n",
       "  </thead>\n",
       "  <tbody>\n",
       "    <tr>\n",
       "      <th>0</th>\n",
       "      <td>gt surprise</td>\n",
       "      <td>1</td>\n",
       "      <td>12</td>\n",
       "      <td>16</td>\n",
       "      <td>24</td>\n",
       "      <td>26</td>\n",
       "    </tr>\n",
       "    <tr>\n",
       "      <th>1</th>\n",
       "      <td>pred surprise</td>\n",
       "      <td>1.61</td>\n",
       "      <td>1.45</td>\n",
       "      <td>2.25</td>\n",
       "      <td>2.66</td>\n",
       "      <td>2.34</td>\n",
       "    </tr>\n",
       "    <tr>\n",
       "      <th>2</th>\n",
       "      <td>normalized pred</td>\n",
       "      <td>1.26</td>\n",
       "      <td>1.14</td>\n",
       "      <td>1.76</td>\n",
       "      <td>2.09</td>\n",
       "      <td>1.84</td>\n",
       "    </tr>\n",
       "  </tbody>\n",
       "</table>\n",
       "</div>"
      ],
      "text/plain": [
       "                   Politician Military Officer Painter Rugby Union Player  \\\n",
       "0      gt surprise          1               12      16                 24   \n",
       "1    pred surprise       1.61             1.45    2.25               2.66   \n",
       "2  normalized pred       1.26             1.14    1.76               2.09   \n",
       "\n",
       "  Singer  \n",
       "0     26  \n",
       "1   2.34  \n",
       "2   1.84  "
      ]
     },
     "metadata": {},
     "output_type": "display_data"
    },
    {
     "name": "stdout",
     "output_type": "stream",
     "text": [
      "spearman r: 0.7999999999999999\n"
     ]
    },
    {
     "data": {
      "text/html": [
       "<div>\n",
       "<style scoped>\n",
       "    .dataframe tbody tr th:only-of-type {\n",
       "        vertical-align: middle;\n",
       "    }\n",
       "\n",
       "    .dataframe tbody tr th {\n",
       "        vertical-align: top;\n",
       "    }\n",
       "\n",
       "    .dataframe thead th {\n",
       "        text-align: right;\n",
       "    }\n",
       "</style>\n",
       "<table border=\"1\" class=\"dataframe\">\n",
       "  <thead>\n",
       "    <tr style=\"text-align: right;\">\n",
       "      <th></th>\n",
       "      <th></th>\n",
       "      <th>Landscape</th>\n",
       "      <th>Sky</th>\n",
       "      <th>Mountain</th>\n",
       "      <th>Virgin Mary</th>\n",
       "      <th>Bridge</th>\n",
       "    </tr>\n",
       "  </thead>\n",
       "  <tbody>\n",
       "    <tr>\n",
       "      <th>0</th>\n",
       "      <td>gt surprise</td>\n",
       "      <td>10</td>\n",
       "      <td>11</td>\n",
       "      <td>15</td>\n",
       "      <td>18</td>\n",
       "      <td>21</td>\n",
       "    </tr>\n",
       "    <tr>\n",
       "      <th>1</th>\n",
       "      <td>pred surprise</td>\n",
       "      <td>1.15</td>\n",
       "      <td>1.09</td>\n",
       "      <td>1.22</td>\n",
       "      <td>1.29</td>\n",
       "      <td>1.23</td>\n",
       "    </tr>\n",
       "    <tr>\n",
       "      <th>2</th>\n",
       "      <td>normalized pred</td>\n",
       "      <td>1.01</td>\n",
       "      <td>0.95</td>\n",
       "      <td>1.06</td>\n",
       "      <td>1.13</td>\n",
       "      <td>1.07</td>\n",
       "    </tr>\n",
       "  </tbody>\n",
       "</table>\n",
       "</div>"
      ],
      "text/plain": [
       "                   Landscape   Sky Mountain Virgin Mary Bridge\n",
       "0      gt surprise        10    11       15          18     21\n",
       "1    pred surprise      1.15  1.09     1.22        1.29   1.23\n",
       "2  normalized pred      1.01  0.95     1.06        1.13   1.07"
      ]
     },
     "metadata": {},
     "output_type": "display_data"
    },
    {
     "name": "stdout",
     "output_type": "stream",
     "text": [
      "spearman r: 0.7999999999999999\n"
     ]
    },
    {
     "data": {
      "text/html": [
       "<div>\n",
       "<style scoped>\n",
       "    .dataframe tbody tr th:only-of-type {\n",
       "        vertical-align: middle;\n",
       "    }\n",
       "\n",
       "    .dataframe tbody tr th {\n",
       "        vertical-align: top;\n",
       "    }\n",
       "\n",
       "    .dataframe thead th {\n",
       "        text-align: right;\n",
       "    }\n",
       "</style>\n",
       "<table border=\"1\" class=\"dataframe\">\n",
       "  <thead>\n",
       "    <tr style=\"text-align: right;\">\n",
       "      <th></th>\n",
       "      <th></th>\n",
       "      <th>Oil Paint</th>\n",
       "      <th>Canvas</th>\n",
       "      <th>Cardboard</th>\n",
       "      <th>Paper</th>\n",
       "      <th>Tempera</th>\n",
       "    </tr>\n",
       "  </thead>\n",
       "  <tbody>\n",
       "    <tr>\n",
       "      <th>0</th>\n",
       "      <td>gt surprise</td>\n",
       "      <td>0</td>\n",
       "      <td>5</td>\n",
       "      <td>24</td>\n",
       "      <td>24</td>\n",
       "      <td>25</td>\n",
       "    </tr>\n",
       "    <tr>\n",
       "      <th>1</th>\n",
       "      <td>pred surprise</td>\n",
       "      <td>1.60</td>\n",
       "      <td>1.63</td>\n",
       "      <td>1.70</td>\n",
       "      <td>1.85</td>\n",
       "      <td>1.72</td>\n",
       "    </tr>\n",
       "    <tr>\n",
       "      <th>2</th>\n",
       "      <td>normalized pred</td>\n",
       "      <td>1.00</td>\n",
       "      <td>1.02</td>\n",
       "      <td>1.06</td>\n",
       "      <td>1.15</td>\n",
       "      <td>1.07</td>\n",
       "    </tr>\n",
       "  </tbody>\n",
       "</table>\n",
       "</div>"
      ],
      "text/plain": [
       "                   Oil Paint Canvas Cardboard Paper Tempera\n",
       "0      gt surprise         0      5        24    24      25\n",
       "1    pred surprise      1.60   1.63      1.70  1.85    1.72\n",
       "2  normalized pred      1.00   1.02      1.06  1.15    1.07"
      ]
     },
     "metadata": {},
     "output_type": "display_data"
    },
    {
     "name": "stdout",
     "output_type": "stream",
     "text": [
      "spearman r: 0.8207826816681234\n"
     ]
    },
    {
     "data": {
      "text/html": [
       "<div>\n",
       "<style scoped>\n",
       "    .dataframe tbody tr th:only-of-type {\n",
       "        vertical-align: middle;\n",
       "    }\n",
       "\n",
       "    .dataframe tbody tr th {\n",
       "        vertical-align: top;\n",
       "    }\n",
       "\n",
       "    .dataframe thead th {\n",
       "        text-align: right;\n",
       "    }\n",
       "</style>\n",
       "<table border=\"1\" class=\"dataframe\">\n",
       "  <thead>\n",
       "    <tr style=\"text-align: right;\">\n",
       "      <th></th>\n",
       "      <th></th>\n",
       "      <th>London</th>\n",
       "      <th>New York City</th>\n",
       "      <th>Hamburg</th>\n",
       "      <th>Paris</th>\n",
       "      <th>Rome</th>\n",
       "    </tr>\n",
       "  </thead>\n",
       "  <tbody>\n",
       "    <tr>\n",
       "      <th>0</th>\n",
       "      <td>gt surprise</td>\n",
       "      <td>8</td>\n",
       "      <td>20</td>\n",
       "      <td>24</td>\n",
       "      <td>26</td>\n",
       "      <td>26</td>\n",
       "    </tr>\n",
       "    <tr>\n",
       "      <th>1</th>\n",
       "      <td>pred surprise</td>\n",
       "      <td>1.20</td>\n",
       "      <td>1.35</td>\n",
       "      <td>1.34</td>\n",
       "      <td>1.37</td>\n",
       "      <td>1.54</td>\n",
       "    </tr>\n",
       "    <tr>\n",
       "      <th>2</th>\n",
       "      <td>normalized pred</td>\n",
       "      <td>0.95</td>\n",
       "      <td>1.07</td>\n",
       "      <td>1.06</td>\n",
       "      <td>1.09</td>\n",
       "      <td>1.22</td>\n",
       "    </tr>\n",
       "  </tbody>\n",
       "</table>\n",
       "</div>"
      ],
      "text/plain": [
       "                   London New York City Hamburg Paris  Rome\n",
       "0      gt surprise      8            20      24    26    26\n",
       "1    pred surprise   1.20          1.35    1.34  1.37  1.54\n",
       "2  normalized pred   0.95          1.07    1.06  1.09  1.22"
      ]
     },
     "metadata": {},
     "output_type": "display_data"
    },
    {
     "name": "stdout",
     "output_type": "stream",
     "text": [
      "spearman r: 0.8720815992723809\n"
     ]
    },
    {
     "data": {
      "text/html": [
       "<div>\n",
       "<style scoped>\n",
       "    .dataframe tbody tr th:only-of-type {\n",
       "        vertical-align: middle;\n",
       "    }\n",
       "\n",
       "    .dataframe tbody tr th {\n",
       "        vertical-align: top;\n",
       "    }\n",
       "\n",
       "    .dataframe thead th {\n",
       "        text-align: right;\n",
       "    }\n",
       "</style>\n",
       "<table border=\"1\" class=\"dataframe\">\n",
       "  <thead>\n",
       "    <tr style=\"text-align: right;\">\n",
       "      <th></th>\n",
       "      <th></th>\n",
       "      <th>Singer-songwriter</th>\n",
       "      <th>Film Producer</th>\n",
       "      <th>Entrepreneur</th>\n",
       "      <th>Author</th>\n",
       "      <th>Painter</th>\n",
       "    </tr>\n",
       "  </thead>\n",
       "  <tbody>\n",
       "    <tr>\n",
       "      <th>0</th>\n",
       "      <td>gt surprise</td>\n",
       "      <td>1</td>\n",
       "      <td>12</td>\n",
       "      <td>14</td>\n",
       "      <td>19</td>\n",
       "      <td>26</td>\n",
       "    </tr>\n",
       "    <tr>\n",
       "      <th>1</th>\n",
       "      <td>pred surprise</td>\n",
       "      <td>1.54</td>\n",
       "      <td>1.59</td>\n",
       "      <td>1.55</td>\n",
       "      <td>1.94</td>\n",
       "      <td>2.14</td>\n",
       "    </tr>\n",
       "    <tr>\n",
       "      <th>2</th>\n",
       "      <td>normalized pred</td>\n",
       "      <td>1.23</td>\n",
       "      <td>1.27</td>\n",
       "      <td>1.24</td>\n",
       "      <td>1.55</td>\n",
       "      <td>1.71</td>\n",
       "    </tr>\n",
       "  </tbody>\n",
       "</table>\n",
       "</div>"
      ],
      "text/plain": [
       "                   Singer-songwriter Film Producer Entrepreneur Author Painter\n",
       "0      gt surprise                 1            12           14     19      26\n",
       "1    pred surprise              1.54          1.59         1.55   1.94    2.14\n",
       "2  normalized pred              1.23          1.27         1.24   1.55    1.71"
      ]
     },
     "metadata": {},
     "output_type": "display_data"
    },
    {
     "name": "stdout",
     "output_type": "stream",
     "text": [
      "spearman r: 0.8999999999999998\n"
     ]
    },
    {
     "data": {
      "text/html": [
       "<div>\n",
       "<style scoped>\n",
       "    .dataframe tbody tr th:only-of-type {\n",
       "        vertical-align: middle;\n",
       "    }\n",
       "\n",
       "    .dataframe tbody tr th {\n",
       "        vertical-align: top;\n",
       "    }\n",
       "\n",
       "    .dataframe thead th {\n",
       "        text-align: right;\n",
       "    }\n",
       "</style>\n",
       "<table border=\"1\" class=\"dataframe\">\n",
       "  <thead>\n",
       "    <tr style=\"text-align: right;\">\n",
       "      <th></th>\n",
       "      <th></th>\n",
       "      <th>English</th>\n",
       "      <th>French</th>\n",
       "      <th>German</th>\n",
       "      <th>Russian</th>\n",
       "      <th>Swedish</th>\n",
       "    </tr>\n",
       "  </thead>\n",
       "  <tbody>\n",
       "    <tr>\n",
       "      <th>0</th>\n",
       "      <td>gt surprise</td>\n",
       "      <td>2</td>\n",
       "      <td>12</td>\n",
       "      <td>15</td>\n",
       "      <td>24</td>\n",
       "      <td>25</td>\n",
       "    </tr>\n",
       "    <tr>\n",
       "      <th>1</th>\n",
       "      <td>pred surprise</td>\n",
       "      <td>1.11</td>\n",
       "      <td>1.29</td>\n",
       "      <td>1.23</td>\n",
       "      <td>1.44</td>\n",
       "      <td>1.47</td>\n",
       "    </tr>\n",
       "    <tr>\n",
       "      <th>2</th>\n",
       "      <td>normalized pred</td>\n",
       "      <td>0.96</td>\n",
       "      <td>1.12</td>\n",
       "      <td>1.07</td>\n",
       "      <td>1.25</td>\n",
       "      <td>1.27</td>\n",
       "    </tr>\n",
       "  </tbody>\n",
       "</table>\n",
       "</div>"
      ],
      "text/plain": [
       "                   English French German Russian Swedish\n",
       "0      gt surprise       2     12     15      24      25\n",
       "1    pred surprise    1.11   1.29   1.23    1.44    1.47\n",
       "2  normalized pred    0.96   1.12   1.07    1.25    1.27"
      ]
     },
     "metadata": {},
     "output_type": "display_data"
    },
    {
     "name": "stdout",
     "output_type": "stream",
     "text": [
      "spearman r: 0.8999999999999998\n"
     ]
    },
    {
     "data": {
      "text/html": [
       "<div>\n",
       "<style scoped>\n",
       "    .dataframe tbody tr th:only-of-type {\n",
       "        vertical-align: middle;\n",
       "    }\n",
       "\n",
       "    .dataframe tbody tr th {\n",
       "        vertical-align: top;\n",
       "    }\n",
       "\n",
       "    .dataframe thead th {\n",
       "        text-align: right;\n",
       "    }\n",
       "</style>\n",
       "<table border=\"1\" class=\"dataframe\">\n",
       "  <thead>\n",
       "    <tr style=\"text-align: right;\">\n",
       "      <th></th>\n",
       "      <th></th>\n",
       "      <th>Switzerland</th>\n",
       "      <th>South Africa</th>\n",
       "      <th>United States of America</th>\n",
       "      <th>France</th>\n",
       "      <th>South Korea</th>\n",
       "    </tr>\n",
       "  </thead>\n",
       "  <tbody>\n",
       "    <tr>\n",
       "      <th>0</th>\n",
       "      <td>gt surprise</td>\n",
       "      <td>9</td>\n",
       "      <td>18</td>\n",
       "      <td>20</td>\n",
       "      <td>20</td>\n",
       "      <td>26</td>\n",
       "    </tr>\n",
       "    <tr>\n",
       "      <th>1</th>\n",
       "      <td>pred surprise</td>\n",
       "      <td>1.07</td>\n",
       "      <td>1.10</td>\n",
       "      <td>1.16</td>\n",
       "      <td>1.19</td>\n",
       "      <td>1.31</td>\n",
       "    </tr>\n",
       "    <tr>\n",
       "      <th>2</th>\n",
       "      <td>normalized pred</td>\n",
       "      <td>1.03</td>\n",
       "      <td>1.06</td>\n",
       "      <td>1.11</td>\n",
       "      <td>1.15</td>\n",
       "      <td>1.26</td>\n",
       "    </tr>\n",
       "  </tbody>\n",
       "</table>\n",
       "</div>"
      ],
      "text/plain": [
       "                   Switzerland South Africa United States of America France  \\\n",
       "0      gt surprise           9           18                       20     20   \n",
       "1    pred surprise        1.07         1.10                     1.16   1.19   \n",
       "2  normalized pred        1.03         1.06                     1.11   1.15   \n",
       "\n",
       "  South Korea  \n",
       "0          26  \n",
       "1        1.31  \n",
       "2        1.26  "
      ]
     },
     "metadata": {},
     "output_type": "display_data"
    },
    {
     "name": "stdout",
     "output_type": "stream",
     "text": [
      "spearman r: 0.9746794344808963\n"
     ]
    },
    {
     "data": {
      "text/html": [
       "<div>\n",
       "<style scoped>\n",
       "    .dataframe tbody tr th:only-of-type {\n",
       "        vertical-align: middle;\n",
       "    }\n",
       "\n",
       "    .dataframe tbody tr th {\n",
       "        vertical-align: top;\n",
       "    }\n",
       "\n",
       "    .dataframe thead th {\n",
       "        text-align: right;\n",
       "    }\n",
       "</style>\n",
       "<table border=\"1\" class=\"dataframe\">\n",
       "  <thead>\n",
       "    <tr style=\"text-align: right;\">\n",
       "      <th></th>\n",
       "      <th></th>\n",
       "      <th>4</th>\n",
       "      <th>3</th>\n",
       "      <th>2 or fewer</th>\n",
       "      <th>5 or more</th>\n",
       "    </tr>\n",
       "  </thead>\n",
       "  <tbody>\n",
       "    <tr>\n",
       "      <th>0</th>\n",
       "      <td>gt surprise</td>\n",
       "      <td>16</td>\n",
       "      <td>19</td>\n",
       "      <td>20</td>\n",
       "      <td>23</td>\n",
       "    </tr>\n",
       "    <tr>\n",
       "      <th>1</th>\n",
       "      <td>pred surprise</td>\n",
       "      <td>0.97</td>\n",
       "      <td>0.99</td>\n",
       "      <td>0.99</td>\n",
       "      <td>0.99</td>\n",
       "    </tr>\n",
       "    <tr>\n",
       "      <th>2</th>\n",
       "      <td>normalized pred</td>\n",
       "      <td>0.82</td>\n",
       "      <td>0.84</td>\n",
       "      <td>0.84</td>\n",
       "      <td>0.84</td>\n",
       "    </tr>\n",
       "  </tbody>\n",
       "</table>\n",
       "</div>"
      ],
      "text/plain": [
       "                       4     3 2 or fewer 5 or more\n",
       "0      gt surprise    16    19         20        23\n",
       "1    pred surprise  0.97  0.99       0.99      0.99\n",
       "2  normalized pred  0.82  0.84       0.84      0.84"
      ]
     },
     "metadata": {},
     "output_type": "display_data"
    },
    {
     "name": "stdout",
     "output_type": "stream",
     "text": [
      "spearman r: 1.0\n"
     ]
    }
   ],
   "source": [
    "for q in sorted(questions, key=lambda q: q[\"spearman\"][emb_name][surprise_metric]):\n",
    "    answers = list(q[\"pred_counts\"].keys())\n",
    "    ans_surprise_gts = [max_count - count for count in q[\"pred_counts\"].values()]\n",
    "    ans_surprise_preds = [q[\"ans_to_surprise_metrics_dict\"][ans][emb_name][surprise_metric] for ans in answers]\n",
    "    surprise_of_ent_in_class = q[\"class_surprise_metrics_dict\"][emb_name][surprise_metric]\n",
    "    ans_surprise_preds_norm = [s / surprise_of_ent_in_class for s in ans_surprise_preds]\n",
    "    gt_order = np.argsort(ans_surprise_gts)\n",
    "    rows = [\n",
    "        [\"\"] + [answers[i] for i in gt_order],\n",
    "        [\"gt surprise\"] + [str(ans_surprise_gts[i]) for i in gt_order],\n",
    "        [\"pred surprise\"] + [f\"{ans_surprise_preds[i]:.2f}\" for i in gt_order],\n",
    "        [\"normalized pred\"] + [f\"{ans_surprise_preds_norm[i]:.2f}\" for i in gt_order]\n",
    "    ]\n",
    "    display(pd.DataFrame(rows[1:], columns=rows[0]))\n",
    "    print(f\"spearman r: {q['spearman'][emb_name][surprise_metric]}\")"
   ]
  },
  {
   "cell_type": "code",
   "execution_count": null,
   "id": "ce087f11",
   "metadata": {},
   "outputs": [],
   "source": []
  },
  {
   "cell_type": "code",
   "execution_count": null,
   "id": "6173bb34",
   "metadata": {},
   "outputs": [],
   "source": []
  },
  {
   "cell_type": "markdown",
   "id": "137b377e",
   "metadata": {},
   "source": [
    "#### Correlation of true facts (according to WD)"
   ]
  },
  {
   "cell_type": "code",
   "execution_count": null,
   "id": "5a106159",
   "metadata": {},
   "outputs": [],
   "source": []
  },
  {
   "cell_type": "markdown",
   "id": "7999ed34",
   "metadata": {},
   "source": [
    "#### Correlation of true facts (according to Google)"
   ]
  },
  {
   "cell_type": "code",
   "execution_count": null,
   "id": "9cb8a632",
   "metadata": {},
   "outputs": [],
   "source": []
  },
  {
   "cell_type": "code",
   "execution_count": null,
   "id": "319452cd",
   "metadata": {},
   "outputs": [],
   "source": []
  },
  {
   "cell_type": "markdown",
   "id": "97f652df",
   "metadata": {},
   "source": [
    "## Link prediction method"
   ]
  },
  {
   "cell_type": "code",
   "execution_count": 907,
   "id": "abd5c9fa",
   "metadata": {},
   "outputs": [],
   "source": [
    "import h5py, torch\n",
    "from torchbiggraph.model import ComplexDiagonalDynamicOperator, DotComparator, CosComparator\n",
    "from sklearn.metrics.pairwise import cosine_similarity"
   ]
  },
  {
   "cell_type": "code",
   "execution_count": 900,
   "id": "fdc704de",
   "metadata": {},
   "outputs": [],
   "source": [
    "complex_dir = \"/data02/profiling/wikidata-20210215-dwd-v2.complex-embeddings\"\n",
    "vector_dimension = 100"
   ]
  },
  {
   "cell_type": "code",
   "execution_count": 901,
   "id": "4d634b7e",
   "metadata": {},
   "outputs": [
    {
     "name": "stdout",
     "output_type": "stream",
     "text": [
      "loading relation names...\n",
      "loading entity names...\n",
      "setting up operators...\n",
      "loading operator state...\n",
      "loading all embeddings...\n",
      "creating entity-to-index dict...\n",
      "creating relation-to-index dict...\n",
      "CPU times: user 42.1 s, sys: 36.9 s, total: 1min 19s\n",
      "Wall time: 1min 38s\n"
     ]
    }
   ],
   "source": [
    "%%time\n",
    "print(\"loading relation names...\")\n",
    "relation_names_list = json.load(open(f\"{complex_dir}/dynamic_rel_names.json\"))\n",
    "print(\"loading entity names...\")\n",
    "entity_names_list = json.load(open(f\"{complex_dir}/entity_names_all_0.json\"))\n",
    "prop_count = len(relation_names_list)\n",
    "\n",
    "# operators\n",
    "print(\"setting up operators...\")\n",
    "operator_lhs = ComplexDiagonalDynamicOperator(vector_dimension, prop_count)\n",
    "operator_rhs = ComplexDiagonalDynamicOperator(vector_dimension, prop_count)\n",
    "comparator = DotComparator()\n",
    "cos_comparator = CosComparator()\n",
    "with h5py.File(f\"{complex_dir}/model/model.v600.h5\", \"r\") as hf:\n",
    "    operator_state_dict_lhs = {\n",
    "        \"real\": torch.from_numpy(hf[\"model/relations/0/operator/lhs/real\"][...]),\n",
    "        \"imag\": torch.from_numpy(hf[\"model/relations/0/operator/lhs/imag\"][...]),\n",
    "    }\n",
    "    operator_state_dict_rhs = {\n",
    "        \"real\": torch.from_numpy(hf[\"model/relations/0/operator/rhs/real\"][...]),\n",
    "        \"imag\": torch.from_numpy(hf[\"model/relations/0/operator/rhs/imag\"][...]),\n",
    "    }\n",
    "\n",
    "print(\"loading operator state...\")\n",
    "operator_lhs.load_state_dict(operator_state_dict_lhs)\n",
    "operator_rhs.load_state_dict(operator_state_dict_rhs)\n",
    "\n",
    "# Load the embeddings\n",
    "print(\"loading all embeddings...\")\n",
    "with h5py.File(f\"{complex_dir}/model/embeddings_all_0.v600.h5\", \"r\") as hf:\n",
    "    complex_embeddings_for_lp = torch.from_numpy(hf[\"embeddings\"][...])\n",
    "\n",
    "\n",
    "print(\"creating entity-to-index dict...\")\n",
    "entity_to_index = {}\n",
    "for i, entity in enumerate(entity_names_list):\n",
    "    entity_to_index[entity] = i\n",
    "    \n",
    "\n",
    "print(\"creating relation-to-index dict...\")\n",
    "rel_index = {}\n",
    "for i, rel in enumerate(relation_names_list):\n",
    "    rel_index[rel] = i"
   ]
  },
  {
   "cell_type": "code",
   "execution_count": 903,
   "id": "e9c75a54",
   "metadata": {},
   "outputs": [],
   "source": [
    "def complex_link_predict(head, relation=None):\n",
    "    ''' This function generate the embeddings for the tail entities:\n",
    "            Head entities: Obtained from the model\n",
    "            Head + relation: Obtained using torch\n",
    "        :param head: subject Qnode\n",
    "        :param relation: optional property\n",
    "    '''\n",
    "    if relation is None:\n",
    "        return complex_embeddings_for_lp[entity_to_index[head], :].detach().numpy()\n",
    "    return  operator_lhs(\n",
    "                complex_embeddings_for_lp[entity_to_index[head], :].view(1, vector_dimension),\n",
    "                torch.tensor([rel_index[relation]])\n",
    "            ).detach().numpy()[0]"
   ]
  },
  {
   "cell_type": "code",
   "execution_count": 917,
   "id": "636a2bba",
   "metadata": {},
   "outputs": [
    {
     "name": "stdout",
     "output_type": "stream",
     "text": [
      "English: 0.032\n",
      "German: 0.032\n",
      "Russian: 0.094\n",
      "Swedish: 0.005\n",
      "Spanish: -0.056\n"
     ]
    }
   ],
   "source": [
    "q = questions[0]\n",
    "pred_emb = complex_link_predict(q[\"entity\"], q[\"prop\"])\n",
    "for ans, qnode in q[\"ans_to_qnode\"].items():\n",
    "    cos_sim = cosine_similarity(embedding_models[\"complex\"][qnode][None,:], pred_emb[None,:])[0][0]\n",
    "    print(f\"{ans}: {cos_sim:.3f}\")"
   ]
  },
  {
   "cell_type": "code",
   "execution_count": 936,
   "id": "ffdb2cc0",
   "metadata": {},
   "outputs": [
    {
     "name": "stdout",
     "output_type": "stream",
     "text": [
      "printing skipped questions...\n",
      "\tHow many children does Arnold Schwarzenegger have?\n",
      "\tWhat is Donald Trump's mass in pounds circa. 2019?\n",
      "\tWhat is the life expectancy in years of Australia circa. 2016?\n",
      "\tWhat is the retirement age in Colombia? The answer for either men or women will be accepted.\n",
      "\tWhat percentage of the territory of Canada inside its coast line and international boundaries is water?\n",
      "\tWhat was the total revenue in euros of the business \"Adidas\" circa. 2014?\n"
     ]
    }
   ],
   "source": [
    "print(\"printing skipped questions...\")\n",
    "for q in questions:\n",
    "    # skip questions that have non-qnode answers (can't predict)\n",
    "    if list(q[\"ans_to_qnode\"].values())[0] not in embedding_models[\"complex\"]:\n",
    "        print(f'\\t{q[\"lexicalized\"]}')\n",
    "        continue\n",
    "    q[\"ans_cos_sim_to_lp\"] = {}\n",
    "    pred_emb = complex_link_predict(q[\"entity\"], q[\"prop\"])\n",
    "    for ans, qnode in q[\"ans_to_qnode\"].items():\n",
    "        # if multiple qnodes correspond to answer, use average of their cosine sims\n",
    "        # *** There may be other better approaches, e.g. weight these by support\n",
    "        if \"|\" in qnode:\n",
    "            qnodes = qnode.split(\"|\")\n",
    "            cos_sim = np.mean(cosine_similarity([embedding_models[\"complex\"][q] for q in qnodes], pred_emb[None,:]))\n",
    "        else:\n",
    "            cos_sim = cosine_similarity(embedding_models[\"complex\"][qnode][None,:], pred_emb[None,:])[0][0]\n",
    "        q[\"ans_cos_sim_to_lp\"][ans] = cos_sim"
   ]
  },
  {
   "cell_type": "code",
   "execution_count": 937,
   "id": "6944e6e7",
   "metadata": {},
   "outputs": [
    {
     "data": {
      "text/html": [
       "<div>\n",
       "<style scoped>\n",
       "    .dataframe tbody tr th:only-of-type {\n",
       "        vertical-align: middle;\n",
       "    }\n",
       "\n",
       "    .dataframe tbody tr th {\n",
       "        vertical-align: top;\n",
       "    }\n",
       "\n",
       "    .dataframe thead th {\n",
       "        text-align: right;\n",
       "    }\n",
       "</style>\n",
       "<table border=\"1\" class=\"dataframe\">\n",
       "  <thead>\n",
       "    <tr style=\"text-align: right;\">\n",
       "      <th></th>\n",
       "      <th></th>\n",
       "      <th>Spearman</th>\n",
       "      <th>KT</th>\n",
       "    </tr>\n",
       "  </thead>\n",
       "  <tbody>\n",
       "    <tr>\n",
       "      <th>0</th>\n",
       "      <td>complex_link_prediction</td>\n",
       "      <td>0.475</td>\n",
       "      <td>0.413</td>\n",
       "    </tr>\n",
       "    <tr>\n",
       "      <th>1</th>\n",
       "      <td>random</td>\n",
       "      <td>-0.000</td>\n",
       "      <td>-0.002</td>\n",
       "    </tr>\n",
       "    <tr>\n",
       "      <th>2</th>\n",
       "      <td>freq</td>\n",
       "      <td>0.043</td>\n",
       "      <td>0.055</td>\n",
       "    </tr>\n",
       "  </tbody>\n",
       "</table>\n",
       "</div>"
      ],
      "text/plain": [
       "                           Spearman      KT\n",
       "0  complex_link_prediction    0.475   0.413\n",
       "1                   random   -0.000  -0.002\n",
       "2                     freq    0.043   0.055"
      ]
     },
     "metadata": {},
     "output_type": "display_data"
    }
   ],
   "source": [
    "for q in questions:\n",
    "    if \"ans_cos_sim_to_lp\" not in q:\n",
    "        continue\n",
    "    answers = q[\"pred_counts\"].keys()\n",
    "    ans_surprise_gts = [max_count - count for count in q[\"pred_counts\"].values()]\n",
    "    ans_surprise_preds = [-1*q[\"ans_cos_sim_to_lp\"][ans] for ans in answers]\n",
    "    q[\"complex_link_prediction\"] = {}\n",
    "    r, r_pval = spearmanr(ans_surprise_gts, ans_surprise_preds)\n",
    "    t, t_pval = kendalltau(ans_surprise_gts, ans_surprise_preds)\n",
    "    q[\"complex_link_prediction\"][\"spearman\"] = r\n",
    "    q[\"complex_link_prediction\"][\"kendalltau\"] = t\n",
    "header = [\"\", \"Spearman\", \"KT\"]\n",
    "rows = []\n",
    "for method in [\"complex_link_prediction\", \"random\", \"freq\"]:\n",
    "    r = np.mean([q[method]['spearman'] for q in questions if \"ans_cos_sim_to_lp\" in q], axis=0)\n",
    "    t = np.mean([q[method]['kendalltau'] for q in questions if \"ans_cos_sim_to_lp\" in q], axis=0)\n",
    "    rows.append([method,\n",
    "                 f\"{r:.3f}\",\n",
    "                 f\"{t:.3f}\",\n",
    "                ])\n",
    "df = pd.DataFrame(rows, columns=header)\n",
    "display(df)"
   ]
  },
  {
   "cell_type": "code",
   "execution_count": null,
   "id": "dd46798f",
   "metadata": {},
   "outputs": [],
   "source": []
  },
  {
   "cell_type": "code",
   "execution_count": null,
   "id": "8bd8f5d5",
   "metadata": {},
   "outputs": [],
   "source": []
  },
  {
   "cell_type": "code",
   "execution_count": null,
   "id": "4c4d02b1",
   "metadata": {},
   "outputs": [],
   "source": []
  }
 ],
 "metadata": {
  "kernelspec": {
   "display_name": "Python 3 (ipykernel)",
   "language": "python",
   "name": "python3"
  },
  "language_info": {
   "codemirror_mode": {
    "name": "ipython",
    "version": 3
   },
   "file_extension": ".py",
   "mimetype": "text/x-python",
   "name": "python",
   "nbconvert_exporter": "python",
   "pygments_lexer": "ipython3",
   "version": "3.8.5"
  }
 },
 "nbformat": 4,
 "nbformat_minor": 5
}
