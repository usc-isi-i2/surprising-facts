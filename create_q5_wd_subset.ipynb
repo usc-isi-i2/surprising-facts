{
 "cells": [
  {
   "cell_type": "code",
   "execution_count": 3,
   "id": "ed0471ed",
   "metadata": {},
   "outputs": [],
   "source": [
    "import os"
   ]
  },
  {
   "cell_type": "markdown",
   "id": "e5b617c9",
   "metadata": {},
   "source": [
    "## Resources\n",
    "There are some resources you need to gather that we will process in this notebook.\n",
    "* `claims.wikibase-item.tsv.gz`\n",
    "    * Available [here](https://drive.google.com/file/d/1k79SKDVKUIOkqYGVGYtX_KgpPYInCk6T/view?usp=sharing)\n",
    "    * Alternatively, you can create this file by doing the following: follow the [kgtk documentation](https://kgtk.readthedocs.io/en/latest/) to import a json wikidata dump (`import-wikidata`) and partition it using the KGTK/examples/partition-wikidata notebook."
   ]
  },
  {
   "cell_type": "markdown",
   "id": "0b47a954",
   "metadata": {},
   "source": [
    "## Parameters\n",
    "TODO - update oath to `item_file` below to point to the file you gathered in the resources section above"
   ]
  },
  {
   "cell_type": "code",
   "execution_count": 4,
   "id": "2d5baf90",
   "metadata": {},
   "outputs": [],
   "source": [
    "# directory where output will be saved\n",
    "work_dir = \"./output/q5_wd_subset\"\n",
    "# temp folder location to save kypher db store-file\n",
    "store_dir = f\"{work_dir}/temp\"\n",
    "# claims.wikibase-item file - a file containing entity-to-entity WD relations in kgtk format\n",
    "item_file = \"/data02/profiling/kgtk/entity_profiling/data/wikidata-20210215-dwd/claims.wikibase-item.tsv.gz\""
   ]
  },
  {
   "cell_type": "markdown",
   "id": "cb0cfb7a",
   "metadata": {},
   "source": [
    "### Process params / set up variables"
   ]
  },
  {
   "cell_type": "code",
   "execution_count": 26,
   "id": "9bcf0fbf",
   "metadata": {},
   "outputs": [],
   "source": [
    "# Ensure paths are absolute\n",
    "work_dir = os.path.abspath(work_dir)\n",
    "store_dir = os.path.abspath(store_dir)\n",
    "item_file = os.path.abspath(item_file)\n",
    "    \n",
    "# Create directories\n",
    "if not os.path.exists(work_dir):\n",
    "    os.makedirs(work_dir)\n",
    "if not os.path.exists(store_dir):\n",
    "    os.makedirs(store_dir)\n",
    "    \n",
    "# adding some environment variables we'll be using frequently\n",
    "os.environ['STORE'] = \"{}/wikidata.sqlite3.db\".format(store_dir)\n",
    "os.environ['ITEM'] = item_file\n",
    "os.environ['WORK'] = work_dir"
   ]
  },
  {
   "cell_type": "code",
   "execution_count": 28,
   "id": "ab76e7cc",
   "metadata": {},
   "outputs": [],
   "source": [
    "!kgtk query -i $ITEM --graph-cache $STORE \\\n",
    "-o $WORK/wikidata-20210215-dwd.claims.wikibase-item.q5.tsv.gz \\\n",
    "--match 'item: (ent)-[id {label:prop}]->(val), item: (ent)-[l2 {label:\"P31\"}]->(class:Q5)' \\\n",
    "--return 'distinct ent as node1, prop as label, val as node2, id as id'"
   ]
  },
  {
   "cell_type": "code",
   "execution_count": null,
   "id": "c981ba00",
   "metadata": {},
   "outputs": [],
   "source": []
  }
 ],
 "metadata": {
  "kernelspec": {
   "display_name": "Python 3 (ipykernel)",
   "language": "python",
   "name": "python3"
  },
  "language_info": {
   "codemirror_mode": {
    "name": "ipython",
    "version": 3
   },
   "file_extension": ".py",
   "mimetype": "text/x-python",
   "name": "python",
   "nbconvert_exporter": "python",
   "pygments_lexer": "ipython3",
   "version": "3.8.5"
  }
 },
 "nbformat": 4,
 "nbformat_minor": 5
}
